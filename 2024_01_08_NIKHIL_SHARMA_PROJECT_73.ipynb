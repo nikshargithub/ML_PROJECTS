{
  "nbformat": 4,
  "nbformat_minor": 0,
  "metadata": {
    "colab": {
      "provenance": [],
      "include_colab_link": true
    },
    "kernelspec": {
      "name": "python3",
      "display_name": "Python 3"
    }
  },
  "cells": [
    {
      "cell_type": "markdown",
      "metadata": {
        "id": "view-in-github",
        "colab_type": "text"
      },
      "source": [
        "<a href=\"https://colab.research.google.com/github/nikshargithub/ML_PROJECTS/blob/main/2024_01_08_NIKHIL_SHARMA_PROJECT_73.ipynb\" target=\"_parent\"><img src=\"https://colab.research.google.com/assets/colab-badge.svg\" alt=\"Open In Colab\"/></a>"
      ]
    },
    {
      "cell_type": "markdown",
      "metadata": {
        "id": "LmGIEJypJecD"
      },
      "source": [
        "### Instructions"
      ]
    },
    {
      "cell_type": "markdown",
      "metadata": {
        "id": "ucTA11TxJfTy"
      },
      "source": [
        "---"
      ]
    },
    {
      "cell_type": "markdown",
      "metadata": {
        "id": "LW8H-_yDJf-j"
      },
      "source": [
        "#### Goal of the Project\n",
        "\n",
        "This project is designed for you to practice and solve the activities that are based on the concepts covered in the following lessons:\n",
        "\n",
        " 1. Logistic Regression - Univariate Classification I\n",
        "\n",
        " 2. Logistic Regression - Univariate Classification II\n"
      ]
    },
    {
      "cell_type": "markdown",
      "metadata": {
        "id": "GNiMg-W5KlL6"
      },
      "source": [
        "---"
      ]
    },
    {
      "cell_type": "markdown",
      "metadata": {
        "id": "QcWRu1mPfROj"
      },
      "source": [
        "#### Getting Started:\n",
        "\n",
        "1. Follow the next 3 steps to create a copy of this colab file and start working on the project.\n",
        "\n",
        "2. Create a duplicate copy of the Colab file as described below.\n",
        "\n",
        "  - Click on the **File menu**. A new drop-down list will appear.\n",
        "\n",
        "   <img src='https://student-datasets-bucket.s3.ap-south-1.amazonaws.com/images/lesson-0/0_file_menu.png' width=500>\n",
        "\n",
        "  - Click on the **Save a copy in Drive** option. A duplicate copy will get created. It will open up in the new tab on your web browser.\n",
        "\n",
        "  <img src='https://student-datasets-bucket.s3.ap-south-1.amazonaws.com/images/lesson-0/1_create_colab_duplicate_copy.png' width=500>\n",
        "\n",
        "3. After creating the duplicate copy of the notebook, please rename it in the **YYYY-MM-DD_StudentName_Project73** format.\n",
        "\n",
        "4. Now, write your code in the prescribed code cells.\n"
      ]
    },
    {
      "cell_type": "markdown",
      "metadata": {
        "id": "kDoR9wsofSmI"
      },
      "source": [
        "---"
      ]
    },
    {
      "cell_type": "markdown",
      "metadata": {
        "id": "maAiarpbKl1h"
      },
      "source": [
        "### Problem Statement\n",
        "\n",
        "A researcher is interested in assessing how different factors such as GRE (Graduate Record Exam scores), GPA (grade point average), and prestige of the undergraduate institution (RANK) affect admission into graduate school.\n",
        "\n",
        "Build a Logistic Regression model to help him analyse the impact of GRE scores on admissions."
      ]
    },
    {
      "cell_type": "markdown",
      "metadata": {
        "id": "bX0oDkQwVaxY"
      },
      "source": [
        "---"
      ]
    },
    {
      "cell_type": "markdown",
      "metadata": {
        "id": "8Nwq440AVba9"
      },
      "source": [
        "### List of Activities\n",
        "\n",
        "**Activity 1:** Analysing the Dataset\n",
        "\n",
        "  \n",
        "**Activity 2:**  Normalise the Dataset\n",
        "\n",
        "**Activity 3:**  Calculate the Sigmoid Output\n",
        "\n",
        "**Activity 4:** Model Prediction\n",
        "\n",
        "**Activity 5:** Model Evaluation"
      ]
    },
    {
      "cell_type": "markdown",
      "metadata": {
        "id": "VMstt1j0Vhjp"
      },
      "source": [
        "---"
      ]
    },
    {
      "cell_type": "markdown",
      "metadata": {
        "id": "a25NHqeGViL3"
      },
      "source": [
        "#### Activity 1:  Analysing the Dataset\n",
        "\n",
        "\n",
        "\n",
        "You are given with the UCI dataset on college admissions. This dataset consists of the following columns:\n",
        "\n",
        "  **Source:** https://www.kaggle.com/mohansacharya/graduate-admissions\n",
        "  \n",
        "\n",
        "|Field|Description|\n",
        "|---:|:---|\n",
        "|admit|Binary; states whether the student is admitted or not|\n",
        "|gre|GRE score of the student|\n",
        "|gpa|GPA of the student on a $4$ point scale|\n",
        "|rank|Rank of student's postgraduate institution|\n",
        "\n",
        "Print the first five rows of the dataset.\n",
        "\n",
        " **Dataset Link:** https://curriculum.whitehatjr.com/APT+Asset/APT+projects+datasets/binary.csv"
      ]
    },
    {
      "cell_type": "code",
      "metadata": {
        "id": "sNtMW1CCLuur"
      },
      "source": [
        "# Import the required modules and load the dataset\n",
        "import numpy as np\n",
        "import pandas as pd\n",
        "import matplotlib.pyplot as plt\n",
        "import seaborn as sns\n",
        "\n",
        "df = pd.read_csv('https://curriculum.whitehatjr.com/APT+Asset/APT+projects+datasets/binary.csv')"
      ],
      "execution_count": null,
      "outputs": []
    },
    {
      "cell_type": "code",
      "metadata": {
        "id": "Q5eTPPUbN2E5",
        "colab": {
          "base_uri": "https://localhost:8080/",
          "height": 206
        },
        "outputId": "728647eb-df7e-4608-d747-56563406f881"
      },
      "source": [
        "# Print the first five rows of Dataframe.\n",
        "df.head()"
      ],
      "execution_count": null,
      "outputs": [
        {
          "output_type": "execute_result",
          "data": {
            "text/plain": [
              "   Unnamed: 0  admit  gre   gpa  rank\n",
              "0           0      0  380  3.61     3\n",
              "1           1      1  660  3.67     3\n",
              "2           2      1  800  4.00     1\n",
              "3           3      1  640  3.19     4\n",
              "4           4      0  520  2.93     4"
            ],
            "text/html": [
              "\n",
              "  <div id=\"df-596cf393-4778-4235-a919-d02b418eedbe\" class=\"colab-df-container\">\n",
              "    <div>\n",
              "<style scoped>\n",
              "    .dataframe tbody tr th:only-of-type {\n",
              "        vertical-align: middle;\n",
              "    }\n",
              "\n",
              "    .dataframe tbody tr th {\n",
              "        vertical-align: top;\n",
              "    }\n",
              "\n",
              "    .dataframe thead th {\n",
              "        text-align: right;\n",
              "    }\n",
              "</style>\n",
              "<table border=\"1\" class=\"dataframe\">\n",
              "  <thead>\n",
              "    <tr style=\"text-align: right;\">\n",
              "      <th></th>\n",
              "      <th>Unnamed: 0</th>\n",
              "      <th>admit</th>\n",
              "      <th>gre</th>\n",
              "      <th>gpa</th>\n",
              "      <th>rank</th>\n",
              "    </tr>\n",
              "  </thead>\n",
              "  <tbody>\n",
              "    <tr>\n",
              "      <th>0</th>\n",
              "      <td>0</td>\n",
              "      <td>0</td>\n",
              "      <td>380</td>\n",
              "      <td>3.61</td>\n",
              "      <td>3</td>\n",
              "    </tr>\n",
              "    <tr>\n",
              "      <th>1</th>\n",
              "      <td>1</td>\n",
              "      <td>1</td>\n",
              "      <td>660</td>\n",
              "      <td>3.67</td>\n",
              "      <td>3</td>\n",
              "    </tr>\n",
              "    <tr>\n",
              "      <th>2</th>\n",
              "      <td>2</td>\n",
              "      <td>1</td>\n",
              "      <td>800</td>\n",
              "      <td>4.00</td>\n",
              "      <td>1</td>\n",
              "    </tr>\n",
              "    <tr>\n",
              "      <th>3</th>\n",
              "      <td>3</td>\n",
              "      <td>1</td>\n",
              "      <td>640</td>\n",
              "      <td>3.19</td>\n",
              "      <td>4</td>\n",
              "    </tr>\n",
              "    <tr>\n",
              "      <th>4</th>\n",
              "      <td>4</td>\n",
              "      <td>0</td>\n",
              "      <td>520</td>\n",
              "      <td>2.93</td>\n",
              "      <td>4</td>\n",
              "    </tr>\n",
              "  </tbody>\n",
              "</table>\n",
              "</div>\n",
              "    <div class=\"colab-df-buttons\">\n",
              "\n",
              "  <div class=\"colab-df-container\">\n",
              "    <button class=\"colab-df-convert\" onclick=\"convertToInteractive('df-596cf393-4778-4235-a919-d02b418eedbe')\"\n",
              "            title=\"Convert this dataframe to an interactive table.\"\n",
              "            style=\"display:none;\">\n",
              "\n",
              "  <svg xmlns=\"http://www.w3.org/2000/svg\" height=\"24px\" viewBox=\"0 -960 960 960\">\n",
              "    <path d=\"M120-120v-720h720v720H120Zm60-500h600v-160H180v160Zm220 220h160v-160H400v160Zm0 220h160v-160H400v160ZM180-400h160v-160H180v160Zm440 0h160v-160H620v160ZM180-180h160v-160H180v160Zm440 0h160v-160H620v160Z\"/>\n",
              "  </svg>\n",
              "    </button>\n",
              "\n",
              "  <style>\n",
              "    .colab-df-container {\n",
              "      display:flex;\n",
              "      gap: 12px;\n",
              "    }\n",
              "\n",
              "    .colab-df-convert {\n",
              "      background-color: #E8F0FE;\n",
              "      border: none;\n",
              "      border-radius: 50%;\n",
              "      cursor: pointer;\n",
              "      display: none;\n",
              "      fill: #1967D2;\n",
              "      height: 32px;\n",
              "      padding: 0 0 0 0;\n",
              "      width: 32px;\n",
              "    }\n",
              "\n",
              "    .colab-df-convert:hover {\n",
              "      background-color: #E2EBFA;\n",
              "      box-shadow: 0px 1px 2px rgba(60, 64, 67, 0.3), 0px 1px 3px 1px rgba(60, 64, 67, 0.15);\n",
              "      fill: #174EA6;\n",
              "    }\n",
              "\n",
              "    .colab-df-buttons div {\n",
              "      margin-bottom: 4px;\n",
              "    }\n",
              "\n",
              "    [theme=dark] .colab-df-convert {\n",
              "      background-color: #3B4455;\n",
              "      fill: #D2E3FC;\n",
              "    }\n",
              "\n",
              "    [theme=dark] .colab-df-convert:hover {\n",
              "      background-color: #434B5C;\n",
              "      box-shadow: 0px 1px 3px 1px rgba(0, 0, 0, 0.15);\n",
              "      filter: drop-shadow(0px 1px 2px rgba(0, 0, 0, 0.3));\n",
              "      fill: #FFFFFF;\n",
              "    }\n",
              "  </style>\n",
              "\n",
              "    <script>\n",
              "      const buttonEl =\n",
              "        document.querySelector('#df-596cf393-4778-4235-a919-d02b418eedbe button.colab-df-convert');\n",
              "      buttonEl.style.display =\n",
              "        google.colab.kernel.accessAllowed ? 'block' : 'none';\n",
              "\n",
              "      async function convertToInteractive(key) {\n",
              "        const element = document.querySelector('#df-596cf393-4778-4235-a919-d02b418eedbe');\n",
              "        const dataTable =\n",
              "          await google.colab.kernel.invokeFunction('convertToInteractive',\n",
              "                                                    [key], {});\n",
              "        if (!dataTable) return;\n",
              "\n",
              "        const docLinkHtml = 'Like what you see? Visit the ' +\n",
              "          '<a target=\"_blank\" href=https://colab.research.google.com/notebooks/data_table.ipynb>data table notebook</a>'\n",
              "          + ' to learn more about interactive tables.';\n",
              "        element.innerHTML = '';\n",
              "        dataTable['output_type'] = 'display_data';\n",
              "        await google.colab.output.renderOutput(dataTable, element);\n",
              "        const docLink = document.createElement('div');\n",
              "        docLink.innerHTML = docLinkHtml;\n",
              "        element.appendChild(docLink);\n",
              "      }\n",
              "    </script>\n",
              "  </div>\n",
              "\n",
              "\n",
              "<div id=\"df-6f677934-68cc-43f0-b337-97720a2717d7\">\n",
              "  <button class=\"colab-df-quickchart\" onclick=\"quickchart('df-6f677934-68cc-43f0-b337-97720a2717d7')\"\n",
              "            title=\"Suggest charts\"\n",
              "            style=\"display:none;\">\n",
              "\n",
              "<svg xmlns=\"http://www.w3.org/2000/svg\" height=\"24px\"viewBox=\"0 0 24 24\"\n",
              "     width=\"24px\">\n",
              "    <g>\n",
              "        <path d=\"M19 3H5c-1.1 0-2 .9-2 2v14c0 1.1.9 2 2 2h14c1.1 0 2-.9 2-2V5c0-1.1-.9-2-2-2zM9 17H7v-7h2v7zm4 0h-2V7h2v10zm4 0h-2v-4h2v4z\"/>\n",
              "    </g>\n",
              "</svg>\n",
              "  </button>\n",
              "\n",
              "<style>\n",
              "  .colab-df-quickchart {\n",
              "      --bg-color: #E8F0FE;\n",
              "      --fill-color: #1967D2;\n",
              "      --hover-bg-color: #E2EBFA;\n",
              "      --hover-fill-color: #174EA6;\n",
              "      --disabled-fill-color: #AAA;\n",
              "      --disabled-bg-color: #DDD;\n",
              "  }\n",
              "\n",
              "  [theme=dark] .colab-df-quickchart {\n",
              "      --bg-color: #3B4455;\n",
              "      --fill-color: #D2E3FC;\n",
              "      --hover-bg-color: #434B5C;\n",
              "      --hover-fill-color: #FFFFFF;\n",
              "      --disabled-bg-color: #3B4455;\n",
              "      --disabled-fill-color: #666;\n",
              "  }\n",
              "\n",
              "  .colab-df-quickchart {\n",
              "    background-color: var(--bg-color);\n",
              "    border: none;\n",
              "    border-radius: 50%;\n",
              "    cursor: pointer;\n",
              "    display: none;\n",
              "    fill: var(--fill-color);\n",
              "    height: 32px;\n",
              "    padding: 0;\n",
              "    width: 32px;\n",
              "  }\n",
              "\n",
              "  .colab-df-quickchart:hover {\n",
              "    background-color: var(--hover-bg-color);\n",
              "    box-shadow: 0 1px 2px rgba(60, 64, 67, 0.3), 0 1px 3px 1px rgba(60, 64, 67, 0.15);\n",
              "    fill: var(--button-hover-fill-color);\n",
              "  }\n",
              "\n",
              "  .colab-df-quickchart-complete:disabled,\n",
              "  .colab-df-quickchart-complete:disabled:hover {\n",
              "    background-color: var(--disabled-bg-color);\n",
              "    fill: var(--disabled-fill-color);\n",
              "    box-shadow: none;\n",
              "  }\n",
              "\n",
              "  .colab-df-spinner {\n",
              "    border: 2px solid var(--fill-color);\n",
              "    border-color: transparent;\n",
              "    border-bottom-color: var(--fill-color);\n",
              "    animation:\n",
              "      spin 1s steps(1) infinite;\n",
              "  }\n",
              "\n",
              "  @keyframes spin {\n",
              "    0% {\n",
              "      border-color: transparent;\n",
              "      border-bottom-color: var(--fill-color);\n",
              "      border-left-color: var(--fill-color);\n",
              "    }\n",
              "    20% {\n",
              "      border-color: transparent;\n",
              "      border-left-color: var(--fill-color);\n",
              "      border-top-color: var(--fill-color);\n",
              "    }\n",
              "    30% {\n",
              "      border-color: transparent;\n",
              "      border-left-color: var(--fill-color);\n",
              "      border-top-color: var(--fill-color);\n",
              "      border-right-color: var(--fill-color);\n",
              "    }\n",
              "    40% {\n",
              "      border-color: transparent;\n",
              "      border-right-color: var(--fill-color);\n",
              "      border-top-color: var(--fill-color);\n",
              "    }\n",
              "    60% {\n",
              "      border-color: transparent;\n",
              "      border-right-color: var(--fill-color);\n",
              "    }\n",
              "    80% {\n",
              "      border-color: transparent;\n",
              "      border-right-color: var(--fill-color);\n",
              "      border-bottom-color: var(--fill-color);\n",
              "    }\n",
              "    90% {\n",
              "      border-color: transparent;\n",
              "      border-bottom-color: var(--fill-color);\n",
              "    }\n",
              "  }\n",
              "</style>\n",
              "\n",
              "  <script>\n",
              "    async function quickchart(key) {\n",
              "      const quickchartButtonEl =\n",
              "        document.querySelector('#' + key + ' button');\n",
              "      quickchartButtonEl.disabled = true;  // To prevent multiple clicks.\n",
              "      quickchartButtonEl.classList.add('colab-df-spinner');\n",
              "      try {\n",
              "        const charts = await google.colab.kernel.invokeFunction(\n",
              "            'suggestCharts', [key], {});\n",
              "      } catch (error) {\n",
              "        console.error('Error during call to suggestCharts:', error);\n",
              "      }\n",
              "      quickchartButtonEl.classList.remove('colab-df-spinner');\n",
              "      quickchartButtonEl.classList.add('colab-df-quickchart-complete');\n",
              "    }\n",
              "    (() => {\n",
              "      let quickchartButtonEl =\n",
              "        document.querySelector('#df-6f677934-68cc-43f0-b337-97720a2717d7 button');\n",
              "      quickchartButtonEl.style.display =\n",
              "        google.colab.kernel.accessAllowed ? 'block' : 'none';\n",
              "    })();\n",
              "  </script>\n",
              "</div>\n",
              "\n",
              "    </div>\n",
              "  </div>\n"
            ]
          },
          "metadata": {},
          "execution_count": 2
        }
      ]
    },
    {
      "cell_type": "markdown",
      "metadata": {
        "id": "fnbpZifUf8YJ"
      },
      "source": [
        "---"
      ]
    },
    {
      "cell_type": "markdown",
      "metadata": {
        "id": "SEfsfeZ8YVY-"
      },
      "source": [
        "#### Activity 2:  Normalise the Dataset\n",
        "\n",
        " Perform the following tasks:\n",
        "\n",
        " - Get the descriptive statistics for the `gre` column.\n",
        "\n",
        " - Normalise the `gre` column values by calculating their $Z$-scores (or standard scaler).\n",
        "\n"
      ]
    },
    {
      "cell_type": "code",
      "metadata": {
        "id": "FGWtos59OzFq",
        "colab": {
          "base_uri": "https://localhost:8080/",
          "height": 656
        },
        "outputId": "8e05130b-068c-4d78-dbe1-d3db878cd86e"
      },
      "source": [
        "# Get the descriptive statistics for the 'gre' column.\n",
        "print(df['gre'].describe())\n",
        " # Plot a histogram to show the distribution of values for 'gre' column\n",
        "plt.figure(figsize = (15,6))\n",
        "plt.hist(df['gre'],bins = 'sturges')\n",
        "plt.show()"
      ],
      "execution_count": null,
      "outputs": [
        {
          "output_type": "stream",
          "name": "stdout",
          "text": [
            "count    400.000000\n",
            "mean     587.700000\n",
            "std      115.516536\n",
            "min      220.000000\n",
            "25%      520.000000\n",
            "50%      580.000000\n",
            "75%      660.000000\n",
            "max      800.000000\n",
            "Name: gre, dtype: float64\n"
          ]
        },
        {
          "output_type": "display_data",
          "data": {
            "text/plain": [
              "<Figure size 1500x600 with 1 Axes>"
            ],
            "image/png": "[encoded data removed]"
          },
          "metadata": {}
        }
      ]
    },
    {
      "cell_type": "code",
      "metadata": {
        "id": "CirAHf7wPDjH",
        "colab": {
          "base_uri": "https://localhost:8080/",
          "height": 656
        },
        "outputId": "429eccee-8e02-4b98-d39f-00095b369458"
      },
      "source": [
        "# Normalise the 'gre' column values using the standard scaler method.\n",
        "def standard_scaler(series):\n",
        "  n = (series-series.mean())/series.std()\n",
        "  return n\n",
        "# Get the descriptive statistics for the normalised 'gre' column.\n",
        "gre_norm = standard_scaler(df['gre'])\n",
        "print(gre_norm.describe())\n",
        "# Plot a histogram to show the distribution of values for normalised 'gre' column\n",
        "plt.figure(figsize = (15,6))\n",
        "plt.hist(gre_norm,bins = 'sturges')\n",
        "plt.show()"
      ],
      "execution_count": null,
      "outputs": [
        {
          "output_type": "stream",
          "name": "stdout",
          "text": [
            "count    4.000000e+02\n",
            "mean    -3.907985e-16\n",
            "std      1.000000e+00\n",
            "min     -3.183094e+00\n",
            "25%     -5.860633e-01\n",
            "50%     -6.665712e-02\n",
            "75%      6.258844e-01\n",
            "max      1.837832e+00\n",
            "Name: gre, dtype: float64\n"
          ]
        },
        {
          "output_type": "display_data",
          "data": {
            "text/plain": [
              "<Figure size 1500x600 with 1 Axes>"
            ],
            "image/png": "[encoded data removed]"
          },
          "metadata": {}
        }
      ]
    },
    {
      "cell_type": "markdown",
      "metadata": {
        "id": "l7sJSsxYf-NH"
      },
      "source": [
        "---"
      ]
    },
    {
      "cell_type": "markdown",
      "metadata": {
        "id": "SxbDqn6baRkL"
      },
      "source": [
        "#### Activity 3:  Calculate the Sigmoid Output\n",
        "\n",
        "1. Create a sigmoid function.\n",
        "\n",
        "2.  Calculate the sigmoid output for the scaled (or Normalised) GRE scores."
      ]
    },
    {
      "cell_type": "code",
      "metadata": {
        "id": "XXlywmuQPqbg"
      },
      "source": [
        "# Create a sigmoid() function using the above formula.\n",
        "def sigmoid(series):\n",
        "  y = 1/(1+np.exp(-series))\n",
        "  return pd.Series(y)"
      ],
      "execution_count": null,
      "outputs": []
    },
    {
      "cell_type": "code",
      "metadata": {
        "id": "BCWUAjGZPXkh",
        "colab": {
          "base_uri": "https://localhost:8080/"
        },
        "outputId": "d25bfbc9-a55b-49b1-ffb1-9d8cb126040e"
      },
      "source": [
        "# Calculate the sigmoid output for the scaled (or normalised) GRE scores.\n",
        "gre_sig_scaled = sigmoid(gre_norm)\n",
        "\n",
        "# Get the descriptive statistics for the sigmoid output of normalised 'gre'.\n",
        "gre_sig_scaled.describe()"
      ],
      "execution_count": null,
      "outputs": [
        {
          "output_type": "execute_result",
          "data": {
            "text/plain": [
              "count    400.000000\n",
              "mean       0.501370\n",
              "std        0.210643\n",
              "min        0.039807\n",
              "25%        0.357539\n",
              "50%        0.483342\n",
              "75%        0.651556\n",
              "max        0.862692\n",
              "Name: gre, dtype: float64"
            ]
          },
          "metadata": {},
          "execution_count": 10
        }
      ]
    },
    {
      "cell_type": "markdown",
      "metadata": {
        "id": "XUMKKeK6bcRC"
      },
      "source": [
        "---"
      ]
    },
    {
      "cell_type": "markdown",
      "metadata": {
        "id": "HPSVS9_abZD1"
      },
      "source": [
        "#### Activity 4:  Model Prediction\n",
        "\n",
        "Consider the threshold probability value of 0.5.\n",
        "\n",
        "- Create a function that classifies the sigmoid output for the scaled  GRE scores into 0s and 1s using the threshold value of 0.5\n"
      ]
    },
    {
      "cell_type": "code",
      "metadata": {
        "id": "mcKU9OkwQnfH"
      },
      "source": [
        "# Create a function 'predict()' that takes the sigmoid output and the threshold\n",
        "# and returns a Pandas series containing the predicted values (0s and 1s) as the output.\n",
        "def predict(sig_output, threshold):\n",
        "  result = [1 if i>threshold else 0 for i in sig_output]\n",
        "  return pd.Series(result)"
      ],
      "execution_count": null,
      "outputs": []
    },
    {
      "cell_type": "code",
      "metadata": {
        "id": "2ntZvNouZ4gr",
        "colab": {
          "base_uri": "https://localhost:8080/"
        },
        "outputId": "d867e0dc-196f-43a0-e2c0-5e3b9095bddb"
      },
      "source": [
        "# Use the 'predict()' function to classify the 'sigmoid()' function outputs as 0 and 1.\n",
        "# Consider threshold value of 0.5.\n",
        "gre_pred = predict(gre_sig_scaled, 0.5)\n",
        "gre_pred"
      ],
      "execution_count": null,
      "outputs": [
        {
          "output_type": "execute_result",
          "data": {
            "text/plain": [
              "0      0\n",
              "1      1\n",
              "2      1\n",
              "3      1\n",
              "4      0\n",
              "      ..\n",
              "395    1\n",
              "396    0\n",
              "397    0\n",
              "398    1\n",
              "399    1\n",
              "Length: 400, dtype: int64"
            ]
          },
          "metadata": {},
          "execution_count": 13
        }
      ]
    },
    {
      "cell_type": "markdown",
      "metadata": {
        "id": "zFWUdZ4YgAO5"
      },
      "source": [
        "---"
      ]
    },
    {
      "cell_type": "markdown",
      "metadata": {
        "id": "hZFGuMqCfjp-"
      },
      "source": [
        "#### Activity 5:  Model Evaluation\n",
        "\n",
        "Evaluate the model by calculating the number of false positives and false negatives using a confusion matrix. Also print the classification report for the predicted values."
      ]
    },
    {
      "cell_type": "code",
      "metadata": {
        "id": "6py8MXgiRAwn",
        "colab": {
          "base_uri": "https://localhost:8080/"
        },
        "outputId": "ff4f1f43-1276-4be1-c798-42016647ed15"
      },
      "source": [
        "# Create a confusion matrix for the predicted values.\n",
        "from sklearn.metrics import confusion_matrix,classification_report\n",
        "confusion_matrix(df['admit'],gre_pred)"
      ],
      "execution_count": null,
      "outputs": [
        {
          "output_type": "execute_result",
          "data": {
            "text/plain": [
              "array([[154, 119],\n",
              "       [ 49,  78]])"
            ]
          },
          "metadata": {},
          "execution_count": 14
        }
      ]
    },
    {
      "cell_type": "code",
      "metadata": {
        "id": "6Br2hK1wRMtv",
        "colab": {
          "base_uri": "https://localhost:8080/"
        },
        "outputId": "d3a85747-beb2-460b-c974-828e59e96156"
      },
      "source": [
        "# Print the classification report for the predicted values.\n",
        "print(classification_report(df['admit'],gre_pred))"
      ],
      "execution_count": null,
      "outputs": [
        {
          "output_type": "stream",
          "name": "stdout",
          "text": [
            "              precision    recall  f1-score   support\n",
            "\n",
            "           0       0.76      0.56      0.65       273\n",
            "           1       0.40      0.61      0.48       127\n",
            "\n",
            "    accuracy                           0.58       400\n",
            "   macro avg       0.58      0.59      0.56       400\n",
            "weighted avg       0.64      0.58      0.59       400\n",
            "\n"
          ]
        }
      ]
    },
    {
      "cell_type": "markdown",
      "metadata": {
        "id": "N6NDX4jDfvBw"
      },
      "source": [
        "----"
      ]
    },
    {
      "cell_type": "markdown",
      "metadata": {
        "id": "LNA1G4VogFXh"
      },
      "source": [
        "### Submitting the Project:\n",
        "\n",
        "1. After finishing the project, click on the **Share** button on the top right corner of the notebook. A new dialog box will appear.\n",
        "\n",
        "  <img src='https://student-datasets-bucket.s3.ap-south-1.amazonaws.com/images/project-share-images/2_share_button.png' width=500>\n",
        "\n",
        "2. In the dialog box, make sure that '**Anyone on the Internet with this link can view**' option is selected and then click on the **Copy link** button.\n",
        "\n",
        "   <img src='https://student-datasets-bucket.s3.ap-south-1.amazonaws.com/images/project-share-images/3_copy_link.png' width=500>\n",
        "\n",
        "3. The link of the duplicate copy (named as **YYYY-MM-DD_StudentName_Project73**) of the notebook will get copied.\n",
        "\n",
        "   <img src='https://student-datasets-bucket.s3.ap-south-1.amazonaws.com/images/project-share-images/4_copy_link_confirmation.png' width=500>\n",
        "\n",
        "4. Go to your dashboard and click on the **My Projects** option.\n",
        "   \n",
        "   <img src='https://student-datasets-bucket.s3.ap-south-1.amazonaws.com/images/project-share-images/5_student_dashboard.png' width=800>\n",
        "\n",
        "  <img src='https://student-datasets-bucket.s3.ap-south-1.amazonaws.com/images/project-share-images/6_my_projects.png' width=800>\n",
        "\n",
        "5. Click on the **View Project** button for the project you want to submit.\n",
        "\n",
        "   <img src='https://student-datasets-bucket.s3.ap-south-1.amazonaws.com/images/project-share-images/7_view_project.png' width=800>\n",
        "\n",
        "6. Click on the **Submit Project Here** button.\n",
        "\n",
        "   <img src='https://student-datasets-bucket.s3.ap-south-1.amazonaws.com/images/project-share-images/8_submit_project.png' width=800>\n",
        "\n",
        "7. Paste the link to the project file named as **YYYY-MM-DD_StudentName_Project73** in the URL box and then click on the **Submit** button.\n",
        "\n",
        "   <img src='https://student-datasets-bucket.s3.ap-south-1.amazonaws.com/images/project-share-images/9_enter_project_url.png' width=800>"
      ]
    },
    {
      "cell_type": "markdown",
      "metadata": {
        "id": "Qb6mCX4TgNkC"
      },
      "source": [
        "---"
      ]
    }
  ]
}