{
  "nbformat": 4,
  "nbformat_minor": 0,
  "metadata": {
    "colab": {
      "provenance": [],
      "include_colab_link": true
    },
    "kernelspec": {
      "name": "python3",
      "display_name": "Python 3"
    }
  },
  "cells": [
    {
      "cell_type": "markdown",
      "metadata": {
        "id": "view-in-github",
        "colab_type": "text"
      },
      "source": [
        "<a href=\"https://colab.research.google.com/github/nikshargithub/ML_PROJECTS/blob/main/2021_03_31_NIKHIL_SHARMA_Project_20.ipynb\" target=\"_parent\"><img src=\"https://colab.research.google.com/assets/colab-badge.svg\" alt=\"Open In Colab\"/></a>"
      ]
    },
    {
      "cell_type": "markdown",
      "metadata": {
        "id": "boJY-CanQcE6"
      },
      "source": [
        "# Project 6: Predicting A Pulsar Star"
      ]
    },
    {
      "cell_type": "markdown",
      "metadata": {
        "id": "ydmz0sX16yhf"
      },
      "source": [
        "### Overview\n",
        "\n",
        "Pulsar stars (https://www.youtube.com/watch?v=gjLk_72V9Bw) are a rare type of Neutron stars (https://www.youtube.com/watch?v=hCwDNXKlN8Q) that produce radio emissions detectable on Earth. They are of considerable scientific interest as probes of space-time, the interstellar medium, and states of matter.\n",
        "\n",
        "You can learn more about the Pulsar and neutron star by watching this video: https://www.youtube.com/watch?v=RrMvUL8HFlM\n",
        "\n",
        "As pulsars rotate, their emission beam sweeps across the sky, and when this crosses our line of sight, it produces a detectable pattern of broadband radio emission.\n",
        "\n",
        "<img src='https://student-datasets-bucket.s3.ap-south-1.amazonaws.com/images/lightcurve_pulsar.gif'>\n",
        "\n",
        "As pulsars rotate rapidly, this pattern repeats periodically. Thus pulsar search involves looking for periodic radio signals using large radio telescopes.\n",
        "\n",
        "Each pulsar produces a slightly different emission pattern, which varies slightly with each rotation. Thus a potential signal detection known as a 'candidate', is averaged over many rotations of the pulsar, as determined by the length of observation. In the absence of additional info, each candidate could potentially describe a real pulsar. However, in practice almost all detections are caused by Radio Frequency Interference (RFI) and noise, making legitimate signals hard to find.\n",
        "\n",
        "Machine learning tools are now being used to automatically label pulsar candidates to facilitate rapid analysis. The classification algorithms, in particular, are being widely adopted, which treat the candidate datasets as binary classification problems (predict either `0` or `1`). Here, the legitimate pulsar examples are a minority positive class (less in numbers), and the remaining examples are a majority negative class.\n",
        "\n",
        "The class labels used are `0` (negative class) and `1` (positive class). Hence, **we need to deploy the XGBoost Classifier classification model which can accurately detect the class 1 examples.**\n"
      ]
    },
    {
      "cell_type": "markdown",
      "metadata": {
        "id": "_wo1cHTIQxyv"
      },
      "source": [
        "---"
      ]
    },
    {
      "cell_type": "markdown",
      "metadata": {
        "id": "OfMkd7oVo0Mz"
      },
      "source": [
        "#### Getting Started\n",
        "\n",
        "Follow the steps described below to solve the project:\n",
        "\n",
        "1. Click on the link provided below to open the Colab file for this project.\n",
        "   \n",
        "   https://colab.research.google.com/drive/1jK_kbtQCGjb5mIYLeXQeKIqjiHI3VGhg?usp=sharing\n",
        "\n",
        "2. Create the duplicate copy of the Colab file. Here are the steps to create the duplicate copy:\n",
        "\n",
        "    - Click on the **File** menu. A new drop-down list will appear.\n",
        "\n",
        "      <img src='https://student-datasets-bucket.s3.ap-south-1.amazonaws.com/images/project-share-images/0_file_menu.png' width=500>\n",
        "\n",
        "    - Click on the **Save a copy in Drive** option. A duplicate copy will get created. It will open up in the new tab on your web browser.\n",
        "\n",
        "      <img src='https://student-datasets-bucket.s3.ap-south-1.amazonaws.com/images/project-share-images/1_create_colab_duplicate_copy.png' width=500>\n",
        "\n",
        "     - After creating the duplicate copy of the notebook, please rename it in the **YYYY-MM-DD_StudentName_CapstoneProject6** format.\n",
        "\n",
        "3. Now, write your code in the prescribed code cells."
      ]
    },
    {
      "cell_type": "markdown",
      "metadata": {
        "id": "9NOF_hwkpD1g"
      },
      "source": [
        "---"
      ]
    },
    {
      "cell_type": "markdown",
      "metadata": {
        "id": "2_aRS4XTQw0N"
      },
      "source": [
        "### Attribute Information\n",
        "\n",
        "Each candidate is described by 8 continuous variables and a single class variable. The first four are simple statistics obtained from the integrated pulse profile (folded profile). This is an array of continuous variables that describe a longitude-resolved version of the signal that has been averaged in both time and frequency. The remaining four variables are similarly obtained from the DM-SNR curve. **You do not have to worry about what they actually mean.** These 8 variables are summarised below:\n",
        "\n",
        "1. The mean of the integrated profile.\n",
        "\n",
        "2. The standard deviation of the integrated profile.\n",
        "\n",
        "3. Excess kurtosis of the integrated profile.\n",
        "\n",
        "4. The skewness of the integrated profile.\n",
        "\n",
        "5. The mean of the DM-SNR curve.\n",
        "\n",
        "6. The standard deviation of the DM-SNR curve.\n",
        "\n",
        "7. Excess kurtosis of the DM-SNR curve.\n",
        "\n",
        "8. The skewness of the DM-SNR curve.\n",
        "\n",
        "Source: https://archive.ics.uci.edu/ml/datasets/HTRU2\n",
        "\n",
        "**Courtesy**\n",
        "\n",
        "Dr Robert Lyon\n",
        "\n",
        "University of Manchester\n",
        "\n",
        "School of Physics and Astronomy\n",
        "\n",
        "Alan Turing Building\n",
        "\n",
        "Manchester M13 9PL\n",
        "\n",
        "United Kingdom\n",
        "\n",
        "robert.lyon@manchester.ac.uk\n",
        "\n",
        "#### Dataset Links\n",
        "\n",
        "You can get the datasets from the following links:\n",
        "\n",
        "1. Train dataset: https://student-datasets-bucket.s3.ap-south-1.amazonaws.com/whitehat-ds-datasets/project-5/pulsar-star-prediction-train.csv\n",
        "\n",
        "2. Test dataset: https://student-datasets-bucket.s3.ap-south-1.amazonaws.com/whitehat-ds-datasets/project-5/pulsar-star-prediction-test.csv\n"
      ]
    },
    {
      "cell_type": "markdown",
      "metadata": {
        "id": "-6dsZMghQ3N3"
      },
      "source": [
        "---"
      ]
    },
    {
      "cell_type": "markdown",
      "metadata": {
        "id": "XYPSgVZNQ4wd"
      },
      "source": [
        "### Project Requirements\n",
        "\n",
        "1. Create a pandas DataFrame for both the train and test datasets.\n",
        "\n",
        "2. Display the first five rows of both the training and test DataFrames.\n",
        "\n",
        "3. Display the last five rows of both the training and test DataFrames.\n",
        "\n",
        "4. Find the number of rows and columns in both the train and test DataFrames.\n",
        "\n",
        "5. Check for the missing values in both the train and test DataFrames.\n",
        "\n",
        "6. Count the number of `0` and `1` classes in the training dataset.\n",
        "\n",
        "7. Separate the feature variables, i.e, `x_train` and `x_test` from both the DataFrames.\n",
        "\n",
        "8. Separate the target variable, i.e, `y_train` and `y_test` from both the DataFrames.\n",
        "\n",
        "9. Apply the `XGBClassifier` machine learning model to predict the `0` and `1` classes in the test dataset, i.e, `x_test`.\n",
        "\n",
        "10. Print the confusion matrix and the classification report to evaluate your prediction model. Also, based on the confusion matrix, precision, recall and f1-score values, report whether the prediction model deployed by you is making accurate predictions or not.\n"
      ]
    },
    {
      "cell_type": "markdown",
      "metadata": {
        "id": "2cki9m7HQ4HF"
      },
      "source": [
        "---"
      ]
    },
    {
      "cell_type": "markdown",
      "metadata": {
        "id": "WWYYVXmiWA2U"
      },
      "source": [
        "#### 1. Create The DataFrames\n",
        "\n",
        "Create the Pandas DataFrames for both the training and test datasets."
      ]
    },
    {
      "cell_type": "code",
      "metadata": {
        "id": "FcPnUmo26rpg"
      },
      "source": [
        "# Create the DataFrames for both the train and test datasets and store them in the 'train_df' and 'test_df' variables respectively.\n",
        "import pandas as pd\n",
        "train_df = pd.read_csv(\"https://student-datasets-bucket.s3.ap-south-1.amazonaws.com/whitehat-ds-datasets/project-5/pulsar-star-prediction-train.csv\")\n",
        "test_df = pd.read_csv(\"https://student-datasets-bucket.s3.ap-south-1.amazonaws.com/whitehat-ds-datasets/project-5/pulsar-star-prediction-test.csv\")"
      ],
      "execution_count": null,
      "outputs": []
    },
    {
      "cell_type": "markdown",
      "metadata": {
        "id": "07LZaVcSbdhc"
      },
      "source": [
        "---"
      ]
    },
    {
      "cell_type": "markdown",
      "metadata": {
        "id": "N-td-m98bjaW"
      },
      "source": [
        "#### 2. Display First Five Rows\n",
        "\n",
        "Display the first five rows of both the `train_df` and `test_df` DataFrames."
      ]
    },
    {
      "cell_type": "code",
      "metadata": {
        "id": "ACRMQ_vbWozF",
        "colab": {
          "base_uri": "https://localhost:8080/",
          "height": 250
        },
        "outputId": "1520ac4a-6faa-4289-f3e3-57c7eab733f7"
      },
      "source": [
        "# Display the first 5 rows of the 'train_df' DataFrame.\n",
        "train_df.head()"
      ],
      "execution_count": null,
      "outputs": [
        {
          "output_type": "execute_result",
          "data": {
            "text/html": [
              "<div>\n",
              "<style scoped>\n",
              "    .dataframe tbody tr th:only-of-type {\n",
              "        vertical-align: middle;\n",
              "    }\n",
              "\n",
              "    .dataframe tbody tr th {\n",
              "        vertical-align: top;\n",
              "    }\n",
              "\n",
              "    .dataframe thead th {\n",
              "        text-align: right;\n",
              "    }\n",
              "</style>\n",
              "<table border=\"1\" class=\"dataframe\">\n",
              "  <thead>\n",
              "    <tr style=\"text-align: right;\">\n",
              "      <th></th>\n",
              "      <th>target_class</th>\n",
              "      <th>Mean of the integrated profile</th>\n",
              "      <th>Standard deviation of the integrated profile</th>\n",
              "      <th>Excess kurtosis of the integrated profile</th>\n",
              "      <th>Skewness of the integrated profile</th>\n",
              "      <th>Mean of the DM-SNR curve</th>\n",
              "      <th>Standard deviation of the DM-SNR curve</th>\n",
              "      <th>Excess kurtosis of the DM-SNR curve</th>\n",
              "      <th>Skewness of the DM-SNR curve</th>\n",
              "    </tr>\n",
              "  </thead>\n",
              "  <tbody>\n",
              "    <tr>\n",
              "      <th>0</th>\n",
              "      <td>0</td>\n",
              "      <td>111.109375</td>\n",
              "      <td>53.131064</td>\n",
              "      <td>0.280253</td>\n",
              "      <td>-0.222447</td>\n",
              "      <td>3.011706</td>\n",
              "      <td>20.355820</td>\n",
              "      <td>7.585482</td>\n",
              "      <td>62.383270</td>\n",
              "    </tr>\n",
              "    <tr>\n",
              "      <th>1</th>\n",
              "      <td>0</td>\n",
              "      <td>151.945312</td>\n",
              "      <td>47.973350</td>\n",
              "      <td>-0.250834</td>\n",
              "      <td>0.275367</td>\n",
              "      <td>2.115385</td>\n",
              "      <td>14.195484</td>\n",
              "      <td>11.640297</td>\n",
              "      <td>173.592172</td>\n",
              "    </tr>\n",
              "    <tr>\n",
              "      <th>2</th>\n",
              "      <td>1</td>\n",
              "      <td>52.335938</td>\n",
              "      <td>34.775008</td>\n",
              "      <td>2.478375</td>\n",
              "      <td>10.179171</td>\n",
              "      <td>8.230769</td>\n",
              "      <td>34.775947</td>\n",
              "      <td>4.652342</td>\n",
              "      <td>21.987882</td>\n",
              "    </tr>\n",
              "    <tr>\n",
              "      <th>3</th>\n",
              "      <td>0</td>\n",
              "      <td>121.562500</td>\n",
              "      <td>48.569498</td>\n",
              "      <td>-0.033391</td>\n",
              "      <td>-0.323514</td>\n",
              "      <td>2.595318</td>\n",
              "      <td>15.089924</td>\n",
              "      <td>8.734079</td>\n",
              "      <td>98.584122</td>\n",
              "    </tr>\n",
              "    <tr>\n",
              "      <th>4</th>\n",
              "      <td>0</td>\n",
              "      <td>133.664062</td>\n",
              "      <td>59.137852</td>\n",
              "      <td>-0.164198</td>\n",
              "      <td>-0.552877</td>\n",
              "      <td>1.542642</td>\n",
              "      <td>12.052034</td>\n",
              "      <td>12.226623</td>\n",
              "      <td>196.522501</td>\n",
              "    </tr>\n",
              "  </tbody>\n",
              "</table>\n",
              "</div>"
            ],
            "text/plain": [
              "   target_class  ...   Skewness of the DM-SNR curve\n",
              "0             0  ...                      62.383270\n",
              "1             0  ...                     173.592172\n",
              "2             1  ...                      21.987882\n",
              "3             0  ...                      98.584122\n",
              "4             0  ...                     196.522501\n",
              "\n",
              "[5 rows x 9 columns]"
            ]
          },
          "metadata": {
            "tags": []
          },
          "execution_count": 47
        }
      ]
    },
    {
      "cell_type": "code",
      "metadata": {
        "id": "2SKbLbNyWq7b",
        "colab": {
          "base_uri": "https://localhost:8080/",
          "height": 250
        },
        "outputId": "6f996edb-4f52-4710-ea00-d29f16c9f3d0"
      },
      "source": [
        "# Display the first 5 rows of the 'test_df' DataFrame.\n",
        "test_df.head()"
      ],
      "execution_count": null,
      "outputs": [
        {
          "output_type": "execute_result",
          "data": {
            "text/html": [
              "<div>\n",
              "<style scoped>\n",
              "    .dataframe tbody tr th:only-of-type {\n",
              "        vertical-align: middle;\n",
              "    }\n",
              "\n",
              "    .dataframe tbody tr th {\n",
              "        vertical-align: top;\n",
              "    }\n",
              "\n",
              "    .dataframe thead th {\n",
              "        text-align: right;\n",
              "    }\n",
              "</style>\n",
              "<table border=\"1\" class=\"dataframe\">\n",
              "  <thead>\n",
              "    <tr style=\"text-align: right;\">\n",
              "      <th></th>\n",
              "      <th>target_class</th>\n",
              "      <th>Mean of the integrated profile</th>\n",
              "      <th>Standard deviation of the integrated profile</th>\n",
              "      <th>Excess kurtosis of the integrated profile</th>\n",
              "      <th>Skewness of the integrated profile</th>\n",
              "      <th>Mean of the DM-SNR curve</th>\n",
              "      <th>Standard deviation of the DM-SNR curve</th>\n",
              "      <th>Excess kurtosis of the DM-SNR curve</th>\n",
              "      <th>Skewness of the DM-SNR curve</th>\n",
              "    </tr>\n",
              "  </thead>\n",
              "  <tbody>\n",
              "    <tr>\n",
              "      <th>0</th>\n",
              "      <td>0</td>\n",
              "      <td>116.906250</td>\n",
              "      <td>48.920605</td>\n",
              "      <td>0.186046</td>\n",
              "      <td>-0.129815</td>\n",
              "      <td>3.037625</td>\n",
              "      <td>17.737102</td>\n",
              "      <td>8.122621</td>\n",
              "      <td>78.813405</td>\n",
              "    </tr>\n",
              "    <tr>\n",
              "      <th>1</th>\n",
              "      <td>1</td>\n",
              "      <td>75.585938</td>\n",
              "      <td>34.386254</td>\n",
              "      <td>2.025498</td>\n",
              "      <td>8.652913</td>\n",
              "      <td>3.765050</td>\n",
              "      <td>21.897049</td>\n",
              "      <td>7.048189</td>\n",
              "      <td>55.878791</td>\n",
              "    </tr>\n",
              "    <tr>\n",
              "      <th>2</th>\n",
              "      <td>0</td>\n",
              "      <td>103.273438</td>\n",
              "      <td>46.996628</td>\n",
              "      <td>0.504295</td>\n",
              "      <td>0.821088</td>\n",
              "      <td>2.244983</td>\n",
              "      <td>15.622566</td>\n",
              "      <td>9.330498</td>\n",
              "      <td>105.134941</td>\n",
              "    </tr>\n",
              "    <tr>\n",
              "      <th>3</th>\n",
              "      <td>1</td>\n",
              "      <td>101.078125</td>\n",
              "      <td>48.587487</td>\n",
              "      <td>1.011427</td>\n",
              "      <td>1.151870</td>\n",
              "      <td>81.887960</td>\n",
              "      <td>81.464136</td>\n",
              "      <td>0.485105</td>\n",
              "      <td>-1.117904</td>\n",
              "    </tr>\n",
              "    <tr>\n",
              "      <th>4</th>\n",
              "      <td>0</td>\n",
              "      <td>113.226562</td>\n",
              "      <td>48.608804</td>\n",
              "      <td>0.291538</td>\n",
              "      <td>0.292120</td>\n",
              "      <td>6.291806</td>\n",
              "      <td>26.585056</td>\n",
              "      <td>4.540138</td>\n",
              "      <td>21.708268</td>\n",
              "    </tr>\n",
              "  </tbody>\n",
              "</table>\n",
              "</div>"
            ],
            "text/plain": [
              "   target_class  ...   Skewness of the DM-SNR curve\n",
              "0             0  ...                      78.813405\n",
              "1             1  ...                      55.878791\n",
              "2             0  ...                     105.134941\n",
              "3             1  ...                      -1.117904\n",
              "4             0  ...                      21.708268\n",
              "\n",
              "[5 rows x 9 columns]"
            ]
          },
          "metadata": {
            "tags": []
          },
          "execution_count": 48
        }
      ]
    },
    {
      "cell_type": "markdown",
      "metadata": {
        "id": "52J9hBwPWTbU"
      },
      "source": [
        "---"
      ]
    },
    {
      "cell_type": "markdown",
      "metadata": {
        "id": "aq1X_H4qbxv1"
      },
      "source": [
        "#### 3. Display Last Five Rows\n",
        "\n",
        "Display the last five rows of both the `train_df` and `test_df` DataFrames."
      ]
    },
    {
      "cell_type": "code",
      "metadata": {
        "id": "kHMPTzOZbypz",
        "colab": {
          "base_uri": "https://localhost:8080/",
          "height": 250
        },
        "outputId": "d0311a88-a2a7-4ae8-ae47-0880a6493cbf"
      },
      "source": [
        "# Display the last 5 rows of the 'train_df' DataFrame.\n",
        "test_df.tail()"
      ],
      "execution_count": null,
      "outputs": [
        {
          "output_type": "execute_result",
          "data": {
            "text/html": [
              "<div>\n",
              "<style scoped>\n",
              "    .dataframe tbody tr th:only-of-type {\n",
              "        vertical-align: middle;\n",
              "    }\n",
              "\n",
              "    .dataframe tbody tr th {\n",
              "        vertical-align: top;\n",
              "    }\n",
              "\n",
              "    .dataframe thead th {\n",
              "        text-align: right;\n",
              "    }\n",
              "</style>\n",
              "<table border=\"1\" class=\"dataframe\">\n",
              "  <thead>\n",
              "    <tr style=\"text-align: right;\">\n",
              "      <th></th>\n",
              "      <th>target_class</th>\n",
              "      <th>Mean of the integrated profile</th>\n",
              "      <th>Standard deviation of the integrated profile</th>\n",
              "      <th>Excess kurtosis of the integrated profile</th>\n",
              "      <th>Skewness of the integrated profile</th>\n",
              "      <th>Mean of the DM-SNR curve</th>\n",
              "      <th>Standard deviation of the DM-SNR curve</th>\n",
              "      <th>Excess kurtosis of the DM-SNR curve</th>\n",
              "      <th>Skewness of the DM-SNR curve</th>\n",
              "    </tr>\n",
              "  </thead>\n",
              "  <tbody>\n",
              "    <tr>\n",
              "      <th>5902</th>\n",
              "      <td>0</td>\n",
              "      <td>120.140625</td>\n",
              "      <td>45.794673</td>\n",
              "      <td>0.466357</td>\n",
              "      <td>0.528349</td>\n",
              "      <td>2.286789</td>\n",
              "      <td>16.909127</td>\n",
              "      <td>9.823143</td>\n",
              "      <td>111.061145</td>\n",
              "    </tr>\n",
              "    <tr>\n",
              "      <th>5903</th>\n",
              "      <td>0</td>\n",
              "      <td>145.445312</td>\n",
              "      <td>45.821803</td>\n",
              "      <td>-0.175460</td>\n",
              "      <td>0.401138</td>\n",
              "      <td>3.040970</td>\n",
              "      <td>16.063758</td>\n",
              "      <td>7.755287</td>\n",
              "      <td>80.304937</td>\n",
              "    </tr>\n",
              "    <tr>\n",
              "      <th>5904</th>\n",
              "      <td>0</td>\n",
              "      <td>117.875000</td>\n",
              "      <td>51.089535</td>\n",
              "      <td>-0.091320</td>\n",
              "      <td>-0.268881</td>\n",
              "      <td>2.075251</td>\n",
              "      <td>12.376724</td>\n",
              "      <td>10.736269</td>\n",
              "      <td>167.163044</td>\n",
              "    </tr>\n",
              "    <tr>\n",
              "      <th>5905</th>\n",
              "      <td>0</td>\n",
              "      <td>126.812500</td>\n",
              "      <td>46.832606</td>\n",
              "      <td>0.291279</td>\n",
              "      <td>0.183496</td>\n",
              "      <td>1.045151</td>\n",
              "      <td>9.514711</td>\n",
              "      <td>17.821202</td>\n",
              "      <td>431.240745</td>\n",
              "    </tr>\n",
              "    <tr>\n",
              "      <th>5906</th>\n",
              "      <td>0</td>\n",
              "      <td>154.835938</td>\n",
              "      <td>46.133938</td>\n",
              "      <td>-0.313312</td>\n",
              "      <td>0.082159</td>\n",
              "      <td>7.258361</td>\n",
              "      <td>30.115319</td>\n",
              "      <td>5.232192</td>\n",
              "      <td>30.444595</td>\n",
              "    </tr>\n",
              "  </tbody>\n",
              "</table>\n",
              "</div>"
            ],
            "text/plain": [
              "      target_class  ...   Skewness of the DM-SNR curve\n",
              "5902             0  ...                     111.061145\n",
              "5903             0  ...                      80.304937\n",
              "5904             0  ...                     167.163044\n",
              "5905             0  ...                     431.240745\n",
              "5906             0  ...                      30.444595\n",
              "\n",
              "[5 rows x 9 columns]"
            ]
          },
          "metadata": {
            "tags": []
          },
          "execution_count": 49
        }
      ]
    },
    {
      "cell_type": "code",
      "metadata": {
        "id": "Ew0qJlamb0sB",
        "colab": {
          "base_uri": "https://localhost:8080/",
          "height": 250
        },
        "outputId": "1da72766-9cd7-4d86-d189-36c3e84a688c"
      },
      "source": [
        "# Display the last 5 rows of the 'test_df' DataFrame.\n",
        "test_df.tail()"
      ],
      "execution_count": null,
      "outputs": [
        {
          "output_type": "execute_result",
          "data": {
            "text/html": [
              "<div>\n",
              "<style scoped>\n",
              "    .dataframe tbody tr th:only-of-type {\n",
              "        vertical-align: middle;\n",
              "    }\n",
              "\n",
              "    .dataframe tbody tr th {\n",
              "        vertical-align: top;\n",
              "    }\n",
              "\n",
              "    .dataframe thead th {\n",
              "        text-align: right;\n",
              "    }\n",
              "</style>\n",
              "<table border=\"1\" class=\"dataframe\">\n",
              "  <thead>\n",
              "    <tr style=\"text-align: right;\">\n",
              "      <th></th>\n",
              "      <th>target_class</th>\n",
              "      <th>Mean of the integrated profile</th>\n",
              "      <th>Standard deviation of the integrated profile</th>\n",
              "      <th>Excess kurtosis of the integrated profile</th>\n",
              "      <th>Skewness of the integrated profile</th>\n",
              "      <th>Mean of the DM-SNR curve</th>\n",
              "      <th>Standard deviation of the DM-SNR curve</th>\n",
              "      <th>Excess kurtosis of the DM-SNR curve</th>\n",
              "      <th>Skewness of the DM-SNR curve</th>\n",
              "    </tr>\n",
              "  </thead>\n",
              "  <tbody>\n",
              "    <tr>\n",
              "      <th>5902</th>\n",
              "      <td>0</td>\n",
              "      <td>120.140625</td>\n",
              "      <td>45.794673</td>\n",
              "      <td>0.466357</td>\n",
              "      <td>0.528349</td>\n",
              "      <td>2.286789</td>\n",
              "      <td>16.909127</td>\n",
              "      <td>9.823143</td>\n",
              "      <td>111.061145</td>\n",
              "    </tr>\n",
              "    <tr>\n",
              "      <th>5903</th>\n",
              "      <td>0</td>\n",
              "      <td>145.445312</td>\n",
              "      <td>45.821803</td>\n",
              "      <td>-0.175460</td>\n",
              "      <td>0.401138</td>\n",
              "      <td>3.040970</td>\n",
              "      <td>16.063758</td>\n",
              "      <td>7.755287</td>\n",
              "      <td>80.304937</td>\n",
              "    </tr>\n",
              "    <tr>\n",
              "      <th>5904</th>\n",
              "      <td>0</td>\n",
              "      <td>117.875000</td>\n",
              "      <td>51.089535</td>\n",
              "      <td>-0.091320</td>\n",
              "      <td>-0.268881</td>\n",
              "      <td>2.075251</td>\n",
              "      <td>12.376724</td>\n",
              "      <td>10.736269</td>\n",
              "      <td>167.163044</td>\n",
              "    </tr>\n",
              "    <tr>\n",
              "      <th>5905</th>\n",
              "      <td>0</td>\n",
              "      <td>126.812500</td>\n",
              "      <td>46.832606</td>\n",
              "      <td>0.291279</td>\n",
              "      <td>0.183496</td>\n",
              "      <td>1.045151</td>\n",
              "      <td>9.514711</td>\n",
              "      <td>17.821202</td>\n",
              "      <td>431.240745</td>\n",
              "    </tr>\n",
              "    <tr>\n",
              "      <th>5906</th>\n",
              "      <td>0</td>\n",
              "      <td>154.835938</td>\n",
              "      <td>46.133938</td>\n",
              "      <td>-0.313312</td>\n",
              "      <td>0.082159</td>\n",
              "      <td>7.258361</td>\n",
              "      <td>30.115319</td>\n",
              "      <td>5.232192</td>\n",
              "      <td>30.444595</td>\n",
              "    </tr>\n",
              "  </tbody>\n",
              "</table>\n",
              "</div>"
            ],
            "text/plain": [
              "      target_class  ...   Skewness of the DM-SNR curve\n",
              "5902             0  ...                     111.061145\n",
              "5903             0  ...                      80.304937\n",
              "5904             0  ...                     167.163044\n",
              "5905             0  ...                     431.240745\n",
              "5906             0  ...                      30.444595\n",
              "\n",
              "[5 rows x 9 columns]"
            ]
          },
          "metadata": {
            "tags": []
          },
          "execution_count": 50
        }
      ]
    },
    {
      "cell_type": "markdown",
      "metadata": {
        "id": "XdIO_wHRbwAO"
      },
      "source": [
        "---"
      ]
    },
    {
      "cell_type": "markdown",
      "metadata": {
        "id": "gGYkD2qwWSvO"
      },
      "source": [
        "#### 4. Rows & Columns In Train DataFrame\n",
        "\n",
        "Find the number of rows and columns in both the `train_df` and `test_df` DataFrames."
      ]
    },
    {
      "cell_type": "code",
      "metadata": {
        "id": "tQeowD6QMgZT",
        "colab": {
          "base_uri": "https://localhost:8080/"
        },
        "outputId": "3f441152-44ea-467d-ddd6-946be4fae2da"
      },
      "source": [
        "# Print the number of rows and columns in both the DataFrames.\n",
        "print(train_df.shape)\n",
        "print(test_df.shape)"
      ],
      "execution_count": null,
      "outputs": [
        {
          "output_type": "stream",
          "text": [
            "(11991, 9)\n",
            "(5907, 9)\n"
          ],
          "name": "stdout"
        }
      ]
    },
    {
      "cell_type": "markdown",
      "metadata": {
        "id": "5SMkQqLOWaZf"
      },
      "source": [
        "---"
      ]
    },
    {
      "cell_type": "markdown",
      "metadata": {
        "id": "Pk824C11Wbe8"
      },
      "source": [
        "#### 5. Check For Missing Values\n",
        "\n",
        "Check whether any of the columns in both the `train_df` and `test_df` DataFrames has any missing value."
      ]
    },
    {
      "cell_type": "code",
      "metadata": {
        "id": "_pkyxjiSNhMd",
        "colab": {
          "base_uri": "https://localhost:8080/"
        },
        "outputId": "0de424c0-5dad-4106-83e1-6660aec4540e"
      },
      "source": [
        "# Check for the missing values in the 'train_df' DataFrame.\n",
        "missin_value=0\n",
        "for i in train_df.columns:\n",
        "  for j in train_df[i].isnull():\n",
        "    if j == True:\n",
        "      missin_value+=1\n",
        "print(missin_value)"
      ],
      "execution_count": null,
      "outputs": [
        {
          "output_type": "stream",
          "text": [
            "0\n"
          ],
          "name": "stdout"
        }
      ]
    },
    {
      "cell_type": "code",
      "metadata": {
        "id": "VSlTOdfAW0wE",
        "colab": {
          "base_uri": "https://localhost:8080/"
        },
        "outputId": "a327398b-5bc4-43a4-8618-489870cdfe6c"
      },
      "source": [
        "# Check for the missing values in the 'test_df' DataFrame.\n",
        "missing_value=0\n",
        "for k in train_df.columns:\n",
        "  for l in train_df[k].isnull():\n",
        "    if l == True:\n",
        "      missin_value+=1\n",
        "print(missing_value)"
      ],
      "execution_count": null,
      "outputs": [
        {
          "output_type": "stream",
          "text": [
            "0\n"
          ],
          "name": "stdout"
        }
      ]
    },
    {
      "cell_type": "markdown",
      "metadata": {
        "id": "20AKOJSKW4_w"
      },
      "source": [
        "---"
      ]
    },
    {
      "cell_type": "markdown",
      "metadata": {
        "id": "WiIDT8mFW55v"
      },
      "source": [
        "#### 6. Count The `0` & `1` Classes\n",
        "\n",
        "Find out the number of `0` and `1` values in both the `train_df` and `test_df` DataFrames."
      ]
    },
    {
      "cell_type": "code",
      "metadata": {
        "id": "lDDdueENNjfU",
        "colab": {
          "base_uri": "https://localhost:8080/"
        },
        "outputId": "c8ba16d4-83ec-4b16-c390-1d25548d8417"
      },
      "source": [
        "# Print the count of the '0' and '1' classes in the 'train_df' DataFrame.\n",
        "print(train_df.iloc[:,0].value_counts())"
      ],
      "execution_count": null,
      "outputs": [
        {
          "output_type": "stream",
          "text": [
            "0    10878\n",
            "1     1113\n",
            "Name: target_class, dtype: int64\n"
          ],
          "name": "stdout"
        }
      ]
    },
    {
      "cell_type": "code",
      "metadata": {
        "id": "j_CldNLAXDhp",
        "colab": {
          "base_uri": "https://localhost:8080/"
        },
        "outputId": "58b48b24-54e4-4f12-fdef-addef2a5b8d4"
      },
      "source": [
        "# Print the count of the '0' and '1' classes in the 'test_df' DataFrame.\n",
        "print(test_df.iloc[:,0].value_counts())"
      ],
      "execution_count": null,
      "outputs": [
        {
          "output_type": "stream",
          "text": [
            "0    5381\n",
            "1     526\n",
            "Name: target_class, dtype: int64\n"
          ],
          "name": "stdout"
        }
      ]
    },
    {
      "cell_type": "markdown",
      "metadata": {
        "id": "r_sUY5HQXGyV"
      },
      "source": [
        "---"
      ]
    },
    {
      "cell_type": "markdown",
      "metadata": {
        "id": "g7LNHmeuXIEs"
      },
      "source": [
        "#### 7. Feature Variables Extraction\n",
        "\n",
        "Get the feature variables, i.e., `x_train` and `x_test` from both the `train_df` and `test_df` DataFrames respectively. Then, display the first 5 rows of `x_train` and `x_test` DataFrames."
      ]
    },
    {
      "cell_type": "code",
      "metadata": {
        "id": "YjNvPnyiNqVw",
        "colab": {
          "base_uri": "https://localhost:8080/",
          "height": 233
        },
        "outputId": "8eece652-2410-440c-b784-efb79cb3b0b4"
      },
      "source": [
        "# Get the feature variables from the 'train_df' DataFrame.\n",
        "x_train = train_df.iloc[:,1:]\n",
        "# Display the first 5 rows of the 'x_train' DataFrame\n",
        "x_train.head()"
      ],
      "execution_count": null,
      "outputs": [
        {
          "output_type": "execute_result",
          "data": {
            "text/html": [
              "<div>\n",
              "<style scoped>\n",
              "    .dataframe tbody tr th:only-of-type {\n",
              "        vertical-align: middle;\n",
              "    }\n",
              "\n",
              "    .dataframe tbody tr th {\n",
              "        vertical-align: top;\n",
              "    }\n",
              "\n",
              "    .dataframe thead th {\n",
              "        text-align: right;\n",
              "    }\n",
              "</style>\n",
              "<table border=\"1\" class=\"dataframe\">\n",
              "  <thead>\n",
              "    <tr style=\"text-align: right;\">\n",
              "      <th></th>\n",
              "      <th>Mean of the integrated profile</th>\n",
              "      <th>Standard deviation of the integrated profile</th>\n",
              "      <th>Excess kurtosis of the integrated profile</th>\n",
              "      <th>Skewness of the integrated profile</th>\n",
              "      <th>Mean of the DM-SNR curve</th>\n",
              "      <th>Standard deviation of the DM-SNR curve</th>\n",
              "      <th>Excess kurtosis of the DM-SNR curve</th>\n",
              "      <th>Skewness of the DM-SNR curve</th>\n",
              "    </tr>\n",
              "  </thead>\n",
              "  <tbody>\n",
              "    <tr>\n",
              "      <th>0</th>\n",
              "      <td>111.109375</td>\n",
              "      <td>53.131064</td>\n",
              "      <td>0.280253</td>\n",
              "      <td>-0.222447</td>\n",
              "      <td>3.011706</td>\n",
              "      <td>20.355820</td>\n",
              "      <td>7.585482</td>\n",
              "      <td>62.383270</td>\n",
              "    </tr>\n",
              "    <tr>\n",
              "      <th>1</th>\n",
              "      <td>151.945312</td>\n",
              "      <td>47.973350</td>\n",
              "      <td>-0.250834</td>\n",
              "      <td>0.275367</td>\n",
              "      <td>2.115385</td>\n",
              "      <td>14.195484</td>\n",
              "      <td>11.640297</td>\n",
              "      <td>173.592172</td>\n",
              "    </tr>\n",
              "    <tr>\n",
              "      <th>2</th>\n",
              "      <td>52.335938</td>\n",
              "      <td>34.775008</td>\n",
              "      <td>2.478375</td>\n",
              "      <td>10.179171</td>\n",
              "      <td>8.230769</td>\n",
              "      <td>34.775947</td>\n",
              "      <td>4.652342</td>\n",
              "      <td>21.987882</td>\n",
              "    </tr>\n",
              "    <tr>\n",
              "      <th>3</th>\n",
              "      <td>121.562500</td>\n",
              "      <td>48.569498</td>\n",
              "      <td>-0.033391</td>\n",
              "      <td>-0.323514</td>\n",
              "      <td>2.595318</td>\n",
              "      <td>15.089924</td>\n",
              "      <td>8.734079</td>\n",
              "      <td>98.584122</td>\n",
              "    </tr>\n",
              "    <tr>\n",
              "      <th>4</th>\n",
              "      <td>133.664062</td>\n",
              "      <td>59.137852</td>\n",
              "      <td>-0.164198</td>\n",
              "      <td>-0.552877</td>\n",
              "      <td>1.542642</td>\n",
              "      <td>12.052034</td>\n",
              "      <td>12.226623</td>\n",
              "      <td>196.522501</td>\n",
              "    </tr>\n",
              "  </tbody>\n",
              "</table>\n",
              "</div>"
            ],
            "text/plain": [
              "    Mean of the integrated profile  ...   Skewness of the DM-SNR curve\n",
              "0                       111.109375  ...                      62.383270\n",
              "1                       151.945312  ...                     173.592172\n",
              "2                        52.335938  ...                      21.987882\n",
              "3                       121.562500  ...                      98.584122\n",
              "4                       133.664062  ...                     196.522501\n",
              "\n",
              "[5 rows x 8 columns]"
            ]
          },
          "metadata": {
            "tags": []
          },
          "execution_count": 56
        }
      ]
    },
    {
      "cell_type": "code",
      "metadata": {
        "id": "nX0KwFHOOnbM",
        "colab": {
          "base_uri": "https://localhost:8080/",
          "height": 233
        },
        "outputId": "b12e3ae6-b26f-4e8d-e0f6-ef09567edb8c"
      },
      "source": [
        "# Get the feature variables from the 'test_df' DataFrame.\n",
        "x_test = test_df.iloc[:,1:]\n",
        "# Display the first 5 rows of the 'x_test' DataFrame.\n",
        "x_test.head()"
      ],
      "execution_count": null,
      "outputs": [
        {
          "output_type": "execute_result",
          "data": {
            "text/html": [
              "<div>\n",
              "<style scoped>\n",
              "    .dataframe tbody tr th:only-of-type {\n",
              "        vertical-align: middle;\n",
              "    }\n",
              "\n",
              "    .dataframe tbody tr th {\n",
              "        vertical-align: top;\n",
              "    }\n",
              "\n",
              "    .dataframe thead th {\n",
              "        text-align: right;\n",
              "    }\n",
              "</style>\n",
              "<table border=\"1\" class=\"dataframe\">\n",
              "  <thead>\n",
              "    <tr style=\"text-align: right;\">\n",
              "      <th></th>\n",
              "      <th>Mean of the integrated profile</th>\n",
              "      <th>Standard deviation of the integrated profile</th>\n",
              "      <th>Excess kurtosis of the integrated profile</th>\n",
              "      <th>Skewness of the integrated profile</th>\n",
              "      <th>Mean of the DM-SNR curve</th>\n",
              "      <th>Standard deviation of the DM-SNR curve</th>\n",
              "      <th>Excess kurtosis of the DM-SNR curve</th>\n",
              "      <th>Skewness of the DM-SNR curve</th>\n",
              "    </tr>\n",
              "  </thead>\n",
              "  <tbody>\n",
              "    <tr>\n",
              "      <th>0</th>\n",
              "      <td>116.906250</td>\n",
              "      <td>48.920605</td>\n",
              "      <td>0.186046</td>\n",
              "      <td>-0.129815</td>\n",
              "      <td>3.037625</td>\n",
              "      <td>17.737102</td>\n",
              "      <td>8.122621</td>\n",
              "      <td>78.813405</td>\n",
              "    </tr>\n",
              "    <tr>\n",
              "      <th>1</th>\n",
              "      <td>75.585938</td>\n",
              "      <td>34.386254</td>\n",
              "      <td>2.025498</td>\n",
              "      <td>8.652913</td>\n",
              "      <td>3.765050</td>\n",
              "      <td>21.897049</td>\n",
              "      <td>7.048189</td>\n",
              "      <td>55.878791</td>\n",
              "    </tr>\n",
              "    <tr>\n",
              "      <th>2</th>\n",
              "      <td>103.273438</td>\n",
              "      <td>46.996628</td>\n",
              "      <td>0.504295</td>\n",
              "      <td>0.821088</td>\n",
              "      <td>2.244983</td>\n",
              "      <td>15.622566</td>\n",
              "      <td>9.330498</td>\n",
              "      <td>105.134941</td>\n",
              "    </tr>\n",
              "    <tr>\n",
              "      <th>3</th>\n",
              "      <td>101.078125</td>\n",
              "      <td>48.587487</td>\n",
              "      <td>1.011427</td>\n",
              "      <td>1.151870</td>\n",
              "      <td>81.887960</td>\n",
              "      <td>81.464136</td>\n",
              "      <td>0.485105</td>\n",
              "      <td>-1.117904</td>\n",
              "    </tr>\n",
              "    <tr>\n",
              "      <th>4</th>\n",
              "      <td>113.226562</td>\n",
              "      <td>48.608804</td>\n",
              "      <td>0.291538</td>\n",
              "      <td>0.292120</td>\n",
              "      <td>6.291806</td>\n",
              "      <td>26.585056</td>\n",
              "      <td>4.540138</td>\n",
              "      <td>21.708268</td>\n",
              "    </tr>\n",
              "  </tbody>\n",
              "</table>\n",
              "</div>"
            ],
            "text/plain": [
              "    Mean of the integrated profile  ...   Skewness of the DM-SNR curve\n",
              "0                       116.906250  ...                      78.813405\n",
              "1                        75.585938  ...                      55.878791\n",
              "2                       103.273438  ...                     105.134941\n",
              "3                       101.078125  ...                      -1.117904\n",
              "4                       113.226562  ...                      21.708268\n",
              "\n",
              "[5 rows x 8 columns]"
            ]
          },
          "metadata": {
            "tags": []
          },
          "execution_count": 57
        }
      ]
    },
    {
      "cell_type": "markdown",
      "metadata": {
        "id": "4av3tfU5XSMN"
      },
      "source": [
        "---"
      ]
    },
    {
      "cell_type": "markdown",
      "metadata": {
        "id": "LRDStIQ7XTL-"
      },
      "source": [
        "#### 8. Target Variable Extraction\n",
        "\n",
        "Get the target variables, i.e., `y_train` and `y_test` from both the `train_df` and `test_df` DataFrames respectively. Then, display the first 5 rows of `y_train` and `y_test` Pandas series."
      ]
    },
    {
      "cell_type": "code",
      "metadata": {
        "id": "ThmWhnUJOWE8",
        "colab": {
          "base_uri": "https://localhost:8080/"
        },
        "outputId": "1979bd97-9df8-49d3-e580-e5e4da2ae22e"
      },
      "source": [
        "# Get the target variable from the 'train_df' DataFrame.\n",
        "y_train = train_df.iloc[:,0]\n",
        "# Display the first 5 rows of the 'y_train' Pandas series.\n",
        "print(y_train.head())"
      ],
      "execution_count": null,
      "outputs": [
        {
          "output_type": "stream",
          "text": [
            "0    0\n",
            "1    0\n",
            "2    1\n",
            "3    0\n",
            "4    0\n",
            "Name: target_class, dtype: int64\n"
          ],
          "name": "stdout"
        }
      ]
    },
    {
      "cell_type": "code",
      "metadata": {
        "id": "LSD9PoaGOtiN",
        "colab": {
          "base_uri": "https://localhost:8080/"
        },
        "outputId": "123d5f96-f26d-4e00-a114-6660ad840680"
      },
      "source": [
        "# Get the target variable from the 'test_df' DataFrame.\n",
        "y_test = test_df.iloc[:,0]\n",
        "# Display the first 5 rows of the 'y_test' Pandas series.\n",
        "print(y_test.head())"
      ],
      "execution_count": null,
      "outputs": [
        {
          "output_type": "stream",
          "text": [
            "0    0\n",
            "1    1\n",
            "2    0\n",
            "3    1\n",
            "4    0\n",
            "Name: target_class, dtype: int64\n"
          ],
          "name": "stdout"
        }
      ]
    },
    {
      "cell_type": "markdown",
      "metadata": {
        "id": "eL342E7EXe-s"
      },
      "source": [
        "---"
      ]
    },
    {
      "cell_type": "markdown",
      "metadata": {
        "id": "7IUzWvtCXgN9"
      },
      "source": [
        "#### 9. Building An XGBoost Classifier Model"
      ]
    },
    {
      "cell_type": "code",
      "metadata": {
        "id": "zhIZ8xDDO2Zn"
      },
      "source": [
        "# Build A XGBoost Classifier model\n",
        "# Import the xgboost module.\n",
        "import xgboost as xg\n",
        "# Import the confusion_matrix and classification_report modules.\n",
        "from sklearn.metrics import confusion_matrix,classification_report"
      ],
      "execution_count": null,
      "outputs": []
    },
    {
      "cell_type": "code",
      "metadata": {
        "id": "hldcIw1_PIi4",
        "colab": {
          "base_uri": "https://localhost:8080/"
        },
        "outputId": "8aa255f9-4c9b-427d-d544-8de7ee60762e"
      },
      "source": [
        "# Predict the target variable based on the feature variables of the test dataframe\n",
        "xg_model = xg.XGBClassifier()\n",
        "xg_model.fit(x_train,y_train)\n",
        "y_pred = xg_model.predict(x_test)\n",
        "y_pred"
      ],
      "execution_count": null,
      "outputs": [
        {
          "output_type": "execute_result",
          "data": {
            "text/plain": [
              "array([0, 1, 0, ..., 0, 0, 0])"
            ]
          },
          "metadata": {
            "tags": []
          },
          "execution_count": 61
        }
      ]
    },
    {
      "cell_type": "markdown",
      "metadata": {
        "id": "7UCM0PpJddIJ"
      },
      "source": [
        "---"
      ]
    },
    {
      "cell_type": "markdown",
      "metadata": {
        "id": "u4_z7q5IXrc3"
      },
      "source": [
        "#### 10. Confusion Matrix & Classification Report\n",
        "\n",
        "Print the confusion matrix and classification report to evaluate the model. Interpret and report the results obtained from the confusion matrix and the classification report."
      ]
    },
    {
      "cell_type": "code",
      "metadata": {
        "id": "P4mV8cniPPlp",
        "colab": {
          "base_uri": "https://localhost:8080/"
        },
        "outputId": "1f8d5847-bc57-49ff-c949-40558ab844f9"
      },
      "source": [
        "# Print the confusion matrix to see the number of TN, FN, TP and FP.\n",
        "confusion_matrix(y_test,y_pred)"
      ],
      "execution_count": null,
      "outputs": [
        {
          "output_type": "execute_result",
          "data": {
            "text/plain": [
              "array([[5348,   33],\n",
              "       [  82,  444]])"
            ]
          },
          "metadata": {
            "tags": []
          },
          "execution_count": 62
        }
      ]
    },
    {
      "cell_type": "code",
      "metadata": {
        "id": "ReCoX3X8PaQT",
        "colab": {
          "base_uri": "https://localhost:8080/"
        },
        "outputId": "17c38f08-0219-4302-dfb8-a4819e8e2a1a"
      },
      "source": [
        "# Print the precision, recall and f1-score values for both the '0' and '1' classes.\n",
        "print(classification_report(y_test,y_pred))"
      ],
      "execution_count": null,
      "outputs": [
        {
          "output_type": "stream",
          "text": [
            "              precision    recall  f1-score   support\n",
            "\n",
            "           0       0.98      0.99      0.99      5381\n",
            "           1       0.93      0.84      0.89       526\n",
            "\n",
            "    accuracy                           0.98      5907\n",
            "   macro avg       0.96      0.92      0.94      5907\n",
            "weighted avg       0.98      0.98      0.98      5907\n",
            "\n"
          ],
          "name": "stdout"
        }
      ]
    },
    {
      "cell_type": "markdown",
      "metadata": {
        "id": "_Tw7uK1ndut5"
      },
      "source": [
        "**Write your interpretation of the results here.**\n",
        "\n",
        "- Interpretation 1:\n",
        "\n",
        "- Interpretation 2:\n",
        "\n",
        "- Interpretation 3:\n",
        "\n",
        "  $\\dots$\n",
        "\n",
        "- Interpretation N:\n"
      ]
    },
    {
      "cell_type": "markdown",
      "metadata": {
        "id": "Cbdam0nqXxB0"
      },
      "source": [
        "---"
      ]
    },
    {
      "cell_type": "markdown",
      "metadata": {
        "id": "FIUBL_JrgNYb"
      },
      "source": [
        "### Submitting the Project\n",
        "\n",
        "Follow the steps described below to submit the project.\n",
        "\n",
        "1. After finishing the project, click on the **Share** button on the top right corner of the notebook. A new dialog box will appear.\n",
        "\n",
        "  <img src='https://student-datasets-bucket.s3.ap-south-1.amazonaws.com/images/project-share-images/2_share_button.png' width=500>\n",
        "\n",
        "2. In the dialog box, click on the **Copy link** button.\n",
        "\n",
        "   <img src='https://student-datasets-bucket.s3.ap-south-1.amazonaws.com/images/project-share-images/3_copy_link.png' width=500>\n",
        "\n",
        "\n",
        "3. The link of the duplicate copy (named as **YYYY-MM-DD_StudentName_CapstoneProject6**) of the notebook will get copied\n",
        "\n",
        "   <img src='https://student-datasets-bucket.s3.ap-south-1.amazonaws.com/images/project-share-images/4_copy_link_confirmation.png' width=500>\n",
        "\n",
        "4. Go to your dashboard and click on the **My Projects** option.\n",
        "\n",
        "   <img src='https://student-datasets-bucket.s3.ap-south-1.amazonaws.com/images/project-share-images/5_student_dashboard.png' width=800>\n",
        "\n",
        "   <img src='https://student-datasets-bucket.s3.ap-south-1.amazonaws.com/images/project-share-images/6_my_projects.png' width=800>\n",
        "\n",
        "5. Click on the **View Project** button for the project you want to submit.\n",
        "\n",
        "   <img src='https://student-datasets-bucket.s3.ap-south-1.amazonaws.com/images/project-share-images/7_view_project.png' width=800>\n",
        "\n",
        "6. Click on the **Submit Project Here** button.\n",
        "\n",
        "   <img src='https://student-datasets-bucket.s3.ap-south-1.amazonaws.com/images/project-share-images/8_submit_project.png' width=800>\n",
        "\n",
        "7. Paste the link to the project file named as **YYYY-MM-DD_StudentName_CapstoneProject6** in the URL box and then click on the **Submit** button.\n",
        "\n",
        "   <img src='https://student-datasets-bucket.s3.ap-south-1.amazonaws.com/images/project-share-images/9_enter_project_url.png' width=800>\n"
      ]
    },
    {
      "cell_type": "markdown",
      "metadata": {
        "id": "Njxa3_MBgO4N"
      },
      "source": [
        "---"
      ]
    }
  ]
}