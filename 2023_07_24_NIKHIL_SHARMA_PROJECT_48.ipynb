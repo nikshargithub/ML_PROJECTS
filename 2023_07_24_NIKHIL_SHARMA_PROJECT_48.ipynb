{
  "nbformat": 4,
  "nbformat_minor": 0,
  "metadata": {
    "colab": {
      "provenance": [],
      "include_colab_link": true
    },
    "kernelspec": {
      "name": "python3",
      "display_name": "Python 3"
    }
  },
  "cells": [
    {
      "cell_type": "markdown",
      "metadata": {
        "id": "view-in-github",
        "colab_type": "text"
      },
      "source": [
        "<a href=\"https://colab.research.google.com/github/nikshargithub/ML_PROJECTS/blob/main/2023_07_24_NIKHIL_SHARMA_PROJECT_48.ipynb\" target=\"_parent\"><img src=\"https://colab.research.google.com/assets/colab-badge.svg\" alt=\"Open In Colab\"/></a>"
      ]
    },
    {
      "cell_type": "markdown",
      "metadata": {
        "id": "YZnBY81YDCCr"
      },
      "source": [
        "### Instructions"
      ]
    },
    {
      "cell_type": "markdown",
      "metadata": {
        "id": "fIKnY8occu37"
      },
      "source": [
        "#### Goal of the Project\n",
        "\n",
        "This project is designed for you to practice and solve the activities that are based on the concepts covered in the following lessons:\n",
        "\n",
        "1. Python Lists\n",
        "\n",
        "2. Python Dictionary\n",
        "\n",
        "3. String Operations\n",
        "\n",
        "\n"
      ]
    },
    {
      "cell_type": "markdown",
      "metadata": {
        "id": "9oVvUZZCPxxl"
      },
      "source": [
        "---"
      ]
    },
    {
      "cell_type": "markdown",
      "metadata": {
        "id": "bQAEHXa-PyiP"
      },
      "source": [
        "#### Getting Started:\n",
        "\n",
        "1. Click on this link to open the Colab file for this project.\n",
        "\n",
        "    Link on Panel\n",
        "\n",
        "2. Create a duplicate copy of the Colab file as described below.\n",
        "\n",
        "  - Click on the **File menu**. A new drop-down list will appear.\n",
        "\n",
        "   <img src='https://student-datasets-bucket.s3.ap-south-1.amazonaws.com/images/lesson-0/0_file_menu.png' width=500>\n",
        "\n",
        "  - Click on the **Save a copy in Drive** option. A duplicate copy will get created. It will open up in the new tab on your web browser.\n",
        "\n",
        "  <img src='https://student-datasets-bucket.s3.ap-south-1.amazonaws.com/images/lesson-0/1_create_colab_duplicate_copy.png' width=500>\n",
        "\n",
        "3. After creating the duplicate copy of the notebook, please rename it in the **YYYY-MM-DD_StudentName_Project48** format.\n",
        "\n",
        "4. Now, write your code in the prescribed code cells.\n"
      ]
    },
    {
      "cell_type": "markdown",
      "metadata": {
        "id": "BBqkpH4_Doqe"
      },
      "source": [
        "---"
      ]
    },
    {
      "cell_type": "markdown",
      "metadata": {
        "id": "H0P9F3DUf8x2"
      },
      "source": [
        "### Activities\n",
        "\n",
        "\n",
        "  "
      ]
    },
    {
      "cell_type": "markdown",
      "metadata": {
        "id": "0dG-Pm9-UpYh"
      },
      "source": [
        "#### Activity 1: Isogram Word\n",
        "\n",
        "An isogram is a word that has no repeating letters, consecutive or non-consecutive.\n",
        "\n",
        "Given a word as a string, write a program to find whether the word is an isogram or not.\n",
        "\n",
        "**Constraint**:\n",
        "\n",
        "- Ignore letter case (should not be case sensitive).\n",
        "\n",
        "- All test cases contain a valid one-word string.\n",
        "\n",
        "**Input Format**\n",
        "```\n",
        "A string word\n",
        "```\n",
        "\n",
        "**Output Format**\n",
        "```\n",
        "Print 'The word is isogram' if the word has no repeating letters, consecutive or non-consecutive, otherwise print 'The word is not isogram'\n",
        "```\n",
        "\n",
        "**Example**\n",
        "```\n",
        "algorism ➞ The word is isogram\n",
        "\n",
        "Password ➞ The word is not isogram\n",
        "\n",
        "coat ➞ The word is isogram\n",
        "```\n",
        "\n",
        "**Hint:** Use `count()` function to count how many times a letter repeat in a word."
      ]
    },
    {
      "cell_type": "code",
      "metadata": {
        "id": "yYlWfTFxUx8C",
        "outputId": "d14e3334-a37e-4f72-d4a1-b9778135fa28",
        "colab": {
          "base_uri": "https://localhost:8080/"
        }
      },
      "source": [
        "from traitlets.traitlets import parse_notifier_name\n",
        "#  Write your solution here:\n",
        "word = input('enter a word: ')\n",
        "word = word.lower()\n",
        "l=[]\n",
        "for i in word:\n",
        "  l.append(word.count(i))\n",
        "if l.count(1)!=len(l):\n",
        "  print('word is not isogram')\n",
        "else:\n",
        "  print('word is isogram')"
      ],
      "execution_count": null,
      "outputs": [
        {
          "output_type": "stream",
          "name": "stdout",
          "text": [
            "enter a word: Password\n",
            "word is not isogram\n"
          ]
        }
      ]
    },
    {
      "cell_type": "markdown",
      "metadata": {
        "id": "ftOXrP5NUzsZ"
      },
      "source": [
        "---"
      ]
    },
    {
      "cell_type": "markdown",
      "metadata": {
        "id": "BVT9G_baB1aq"
      },
      "source": [
        "#### Activity 2: Does the Cargo Fit?\n",
        "\n",
        "A ship has to transport cargo from one place to another, while picking up cargo along the way. Given the total amount of cargo and the types of cargo holds in the ship as lists, create a function (let's say `will_fit()`) that returns `True` if each weight of cargo can fit in one hold, and `False` if it can't.\n",
        "\n",
        "- \"S\" means 50 cargo space.\n",
        "\n",
        "- \"M\" means 100 cargo space.\n",
        "\n",
        "- \"L\" means 200 cargo space.\n",
        "\n",
        "\n",
        "**Examples**\n",
        "```\n",
        "1. will_fit([\"M\", \"L\", \"L\", \"M\"], [56, 62, 84, 90]) ➞ True\n",
        "\n",
        "2. will_fit([\"S\", \"S\", \"S\", \"S\", \"L\"], [40, 50, 60, 70 , 80, 90, 200]) ➞ False\n",
        "\n",
        "3. will_fit([\"L\", \"L\", \"M\"], [56, 62, 90]) ➞ True\n",
        "\n",
        "```\n",
        "**Hint:** Use dictionary with `S`, `M` and `L` as keys and their respective cargo spaces as values. Calculate total space available in the ship and the total cargos to be shipped and compare them."
      ]
    },
    {
      "cell_type": "code",
      "metadata": {
        "id": "0pIGxKG9B3mb",
        "outputId": "a0167492-38db-43e2-f9dc-bf77e39f8f94",
        "colab": {
          "base_uri": "https://localhost:8080/"
        }
      },
      "source": [
        "# Write your solution here:\n",
        "def will_fit(lst1,lst2):\n",
        "  cargo = {'S':50,'M':100,'L':200}\n",
        "  for i in range(len(lst1)):\n",
        "    if cargo[lst1[i]]>lst2[i]:\n",
        "      ans=True\n",
        "    else:\n",
        "      ans=False\n",
        "  return ans\n",
        "will_fit([\"M\", \"L\", \"L\", \"M\"], [56, 62, 84, 90])"
      ],
      "execution_count": null,
      "outputs": [
        {
          "output_type": "execute_result",
          "data": {
            "text/plain": [
              "True"
            ]
          },
          "metadata": {},
          "execution_count": 4
        }
      ]
    },
    {
      "cell_type": "markdown",
      "metadata": {
        "id": "IJIZASayCpEW"
      },
      "source": [
        "---"
      ]
    },
    {
      "cell_type": "markdown",
      "metadata": {
        "id": "F5-pRf7_Psj2"
      },
      "source": [
        "### Submitting the Project:\n",
        "\n",
        "1. After finishing the project, click on the **Share** button on the top right corner of the notebook. A new dialog box will appear.\n",
        "\n",
        "  <img src='https://student-datasets-bucket.s3.ap-south-1.amazonaws.com/images/project-share-images/2_share_button.png' width=500>\n",
        "\n",
        "2. In the dialog box, make sure that '**Anyone on the Internet with this link can view**' option is selected and then click on the **Copy link** button.\n",
        "\n",
        "   <img src='https://student-datasets-bucket.s3.ap-south-1.amazonaws.com/images/project-share-images/3_copy_link.png' width=500>\n",
        "\n",
        "3. The link of the duplicate copy (named as **YYYY-MM-DD_StudentName_Project48**) of the notebook will get copied\n",
        "\n",
        "   <img src='https://student-datasets-bucket.s3.ap-south-1.amazonaws.com/images/project-share-images/4_copy_link_confirmation.png' width=500>\n",
        "\n",
        "4. Go to your dashboard and click on the **My Projects** option.\n",
        "   \n",
        "   <img src='https://student-datasets-bucket.s3.ap-south-1.amazonaws.com/images/project-share-images/5_student_dashboard.png' width=800>\n",
        "\n",
        "  <img src='https://student-datasets-bucket.s3.ap-south-1.amazonaws.com/images/project-share-images/6_my_projects.png' width=800>\n",
        "\n",
        "5. Click on the **View Project** button for the project you want to submit.\n",
        "\n",
        "   <img src='https://student-datasets-bucket.s3.ap-south-1.amazonaws.com/images/project-share-images/7_view_project.png' width=800>\n",
        "\n",
        "6. Click on the **Submit Project Here** button.\n",
        "\n",
        "   <img src='https://student-datasets-bucket.s3.ap-south-1.amazonaws.com/images/project-share-images/8_submit_project.png' width=800>\n",
        "\n",
        "7. Paste the link to the project file named as **YYYY-MM-DD_StudentName_Project48** in the URL box and then click on the **Submit** button.\n",
        "\n",
        "   <img src='https://student-datasets-bucket.s3.ap-south-1.amazonaws.com/images/project-share-images/9_enter_project_url.png' width=800>"
      ]
    },
    {
      "cell_type": "markdown",
      "metadata": {
        "id": "JNNwtcANPrQO"
      },
      "source": [
        "---"
      ]
    }
  ]
}