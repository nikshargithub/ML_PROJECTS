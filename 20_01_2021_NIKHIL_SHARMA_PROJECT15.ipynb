{
  "nbformat": 4,
  "nbformat_minor": 0,
  "metadata": {
    "colab": {
      "provenance": [],
      "include_colab_link": true
    },
    "kernelspec": {
      "name": "python3",
      "display_name": "Python 3"
    }
  },
  "cells": [
    {
      "cell_type": "markdown",
      "metadata": {
        "id": "view-in-github",
        "colab_type": "text"
      },
      "source": [
        "<a href=\"https://colab.research.google.com/github/nikshargithub/ML_PROJECTS/blob/main/20_01_2021_NIKHIL_SHARMA_PROJECT15.ipynb\" target=\"_parent\"><img src=\"https://colab.research.google.com/assets/colab-badge.svg\" alt=\"Open In Colab\"/></a>"
      ]
    },
    {
      "cell_type": "markdown",
      "metadata": {
        "id": "zVCE_Pjc2nFj"
      },
      "source": [
        "# Project 4: Data Visualisation"
      ]
    },
    {
      "cell_type": "markdown",
      "metadata": {
        "id": "57AkT4b-2qsQ"
      },
      "source": [
        "### Overview\n",
        "\n",
        "In this project, you have to create a DataFrame for a synthesized dataset and perform some basic mathematical operations before on the dataset provided to you before you get your hands dirty on a real-life dataset in the subsequent classes.\n"
      ]
    },
    {
      "cell_type": "markdown",
      "metadata": {
        "id": "OYcXE-FyCBVu"
      },
      "source": [
        "---"
      ]
    },
    {
      "cell_type": "markdown",
      "metadata": {
        "id": "-v1Mc88Aqctg"
      },
      "source": [
        "#### Getting Started\n",
        "\n",
        "Follow the steps described below to solve the project:\n",
        "\n",
        "1. Click on the link provided below to open the Colab file for this project.\n",
        "   \n",
        "   https://colab.research.google.com/drive/1gE5l5T9guWFfL0Ox3yLinkTbUa-DOz4G?usp=sharing\n",
        "\n",
        "2. Create the duplicate copy of the Colab file. Here are the steps to create the duplicate copy:\n",
        "\n",
        "    - Click on the **File** menu. A new drop-down list will appear.\n",
        "\n",
        "      <img src='https://student-datasets-bucket.s3.ap-south-1.amazonaws.com/images/project-share-images/0_file_menu.png' width=500>\n",
        "\n",
        "    - Click on the **Save a copy in Drive** option. A duplicate copy will get created. It will open up in the new tab on your web browser.\n",
        "\n",
        "      <img src='https://student-datasets-bucket.s3.ap-south-1.amazonaws.com/images/project-share-images/1_create_colab_duplicate_copy.png' width=500>\n",
        "\n",
        "     - After creating the duplicate copy of the notebook, please rename it in the **YYYY-MM-DD_StudentName_CapstoneProject4** format.\n",
        "\n",
        "3. Now, write your code in the prescribed code cells."
      ]
    },
    {
      "cell_type": "markdown",
      "metadata": {
        "id": "mr8FIJcVqlP6"
      },
      "source": [
        "---"
      ]
    },
    {
      "cell_type": "markdown",
      "metadata": {
        "id": "O1Md2QaOm5mD"
      },
      "source": [
        "### Project Requirements\n",
        "\n",
        "For this project, you have to do the following tasks:\n",
        "\n",
        "1. Create a DataFrame for a `csv` file which is available at the link:\n",
        "\n",
        "  https://student-datasets-bucket.s3.ap-south-1.amazonaws.com/whitehat-ds-datasets/project-3/sample_csv_file.csv\n",
        "\n",
        "2. Display the first 5 rows of the DataFrame.\n",
        "\n",
        "3. Display the last 5 rows of the DataFrame.\n",
        "\n",
        "4. Find the number of rows and columns.\n",
        "\n",
        "5. Check for the missing values in the DataFrame.\n",
        "\n",
        "6. Create a pandas series called `cum_freq_x1` which contains the cumulative frequency of the `x1` values and print the first 10 values of the series. Also, verify whether it is a pandas series.\n",
        "\n",
        "7. Print the minimum, maximum, mean, median and mode values for the `cum_freq_x1` Pandas series.\n",
        "\n",
        "8. Create a scatter plot and a line plot between:\n",
        "  \n",
        "  - `y` and `x1`\n",
        "  \n",
        "  - `y` and `x2`\n",
        "  \n",
        "  - `y` and `x3`\n",
        "  \n",
        "  - `y` and `x4`\n",
        "  \n",
        "  - `y` and `2 * x1 + 3 * x2 + 4 * x3 + 5 * x4`\n",
        "  \n",
        "  such that the `y` values are plotted on the horizontal axis and `x1, x2, x3, 4` values are plotted on the vertical axis."
      ]
    },
    {
      "cell_type": "markdown",
      "metadata": {
        "id": "4JHqbf0Jsqnu"
      },
      "source": [
        "---"
      ]
    },
    {
      "cell_type": "markdown",
      "metadata": {
        "id": "a0APEzMjsr59"
      },
      "source": [
        "#### 1. Create a DataFrame\n",
        "\n",
        "Import the required modules. Create a DataFrame for the dataset for this project and store it in the `df` variable. Here's the link to the dataset:\n",
        "\n",
        "https://student-datasets-bucket.s3.ap-south-1.amazonaws.com/whitehat-ds-datasets/project-3/sample_csv_file.csv"
      ]
    },
    {
      "cell_type": "code",
      "metadata": {
        "id": "7ELK9uLOKgUF",
        "colab": {
          "base_uri": "https://localhost:8080/"
        },
        "outputId": "9bc82c87-3116-4288-e144-b1fa62aff12a"
      },
      "source": [
        "# Write your code here.\n",
        "import pandas as pd\n",
        "df=pd.read_csv(\"https://student-datasets-bucket.s3.ap-south-1.amazonaws.com/whitehat-ds-datasets/project-3/sample_csv_file.csv\")\n",
        "print(df)"
      ],
      "execution_count": null,
      "outputs": [
        {
          "output_type": "stream",
          "text": [
            "       y   x1      x2        x3        x4\n",
            "0      1    1       1  0.000000  0.841471\n",
            "1      2    2       4  0.693147  0.909297\n",
            "2      3    3       9  1.098612  0.141120\n",
            "3      4    4      16  1.386294 -0.756802\n",
            "4      5    5      25  1.609438 -0.958924\n",
            "..   ...  ...     ...       ...       ...\n",
            "494  495  495  245025  6.204558 -0.980234\n",
            "495  496  496  246016  6.206576 -0.363143\n",
            "496  497  497  247009  6.208590  0.587819\n",
            "497  498  498  248004  6.210600  0.998344\n",
            "498  499  499  249001  6.212606  0.490995\n",
            "\n",
            "[499 rows x 5 columns]\n"
          ],
          "name": "stdout"
        }
      ]
    },
    {
      "cell_type": "markdown",
      "metadata": {
        "id": "9TcWLR-EtAL5"
      },
      "source": [
        "---"
      ]
    },
    {
      "cell_type": "markdown",
      "metadata": {
        "id": "YknhZf9ktBLZ"
      },
      "source": [
        "#### 2. Display The First 5 Rows\n",
        "\n",
        "Here you have to display the first five rows of the `df` DataFrame."
      ]
    },
    {
      "cell_type": "code",
      "metadata": {
        "id": "lLJ6ItnzRJgS",
        "colab": {
          "base_uri": "https://localhost:8080/"
        },
        "outputId": "b3855376-fcba-45c0-c078-f7649a7d8dc1"
      },
      "source": [
        "# Write your code here.\n",
        "print(df.head())"
      ],
      "execution_count": null,
      "outputs": [
        {
          "output_type": "stream",
          "text": [
            "   y  x1  x2        x3        x4\n",
            "0  1   1   1  0.000000  0.841471\n",
            "1  2   2   4  0.693147  0.909297\n",
            "2  3   3   9  1.098612  0.141120\n",
            "3  4   4  16  1.386294 -0.756802\n",
            "4  5   5  25  1.609438 -0.958924\n"
          ],
          "name": "stdout"
        }
      ]
    },
    {
      "cell_type": "markdown",
      "metadata": {
        "id": "77w83-ortGY8"
      },
      "source": [
        "---"
      ]
    },
    {
      "cell_type": "markdown",
      "metadata": {
        "id": "836Zdss_tOPi"
      },
      "source": [
        "#### 3. Display The Last 5 Rows\n",
        "\n",
        "Here you have to display the last five rows of the `df` DataFrame."
      ]
    },
    {
      "cell_type": "code",
      "metadata": {
        "id": "__DRgc_pPJau",
        "colab": {
          "base_uri": "https://localhost:8080/"
        },
        "outputId": "266aa25f-e6ef-446d-b456-16e2474ac81b"
      },
      "source": [
        "# Write your code here.\n",
        "print(df.tail())"
      ],
      "execution_count": null,
      "outputs": [
        {
          "output_type": "stream",
          "text": [
            "       y   x1      x2        x3        x4\n",
            "494  495  495  245025  6.204558 -0.980234\n",
            "495  496  496  246016  6.206576 -0.363143\n",
            "496  497  497  247009  6.208590  0.587819\n",
            "497  498  498  248004  6.210600  0.998344\n",
            "498  499  499  249001  6.212606  0.490995\n"
          ],
          "name": "stdout"
        }
      ]
    },
    {
      "cell_type": "markdown",
      "metadata": {
        "id": "hbrf-qnYtXHL"
      },
      "source": [
        "---"
      ]
    },
    {
      "cell_type": "markdown",
      "metadata": {
        "id": "5Vc16dIwtYEC"
      },
      "source": [
        "#### 4. Display Number Of Rows & Columns\n",
        "\n",
        "Now, display the number of rows and columns that are present in the `df` DataFrame."
      ]
    },
    {
      "cell_type": "code",
      "metadata": {
        "id": "BchpHm6DQ22n",
        "colab": {
          "base_uri": "https://localhost:8080/"
        },
        "outputId": "fc2241f4-8e39-4d3c-e087-aeacf2918fac"
      },
      "source": [
        "# Write your code here.\n",
        "df.shape"
      ],
      "execution_count": null,
      "outputs": [
        {
          "output_type": "execute_result",
          "data": {
            "text/plain": [
              "(499, 5)"
            ]
          },
          "metadata": {
            "tags": []
          },
          "execution_count": 4
        }
      ]
    },
    {
      "cell_type": "markdown",
      "metadata": {
        "id": "t6l5BJ0otgRO"
      },
      "source": [
        "---"
      ]
    },
    {
      "cell_type": "markdown",
      "metadata": {
        "id": "noovqesBthVM"
      },
      "source": [
        "#### 5. Check For The Missing Values\n",
        "\n",
        "Check whether the `df` DataFrame contains the missing values."
      ]
    },
    {
      "cell_type": "code",
      "metadata": {
        "id": "fcCJ0AzhQ4T0",
        "colab": {
          "base_uri": "https://localhost:8080/"
        },
        "outputId": "4b5b890e-d11a-426c-e069-55aab1c662e0"
      },
      "source": [
        "# Write your code here.\n",
        "missin_value=0\n",
        "for i in df.columns:\n",
        "  for j in df[i].isnull():\n",
        "    if j==True:\n",
        "      missin_value+=1\n",
        "if missin_value>0:\n",
        "  print(\"yes,the data frame contains missing values\")\n",
        "else:\n",
        "  print(\"none\")"
      ],
      "execution_count": null,
      "outputs": [
        {
          "output_type": "stream",
          "text": [
            "none\n"
          ],
          "name": "stdout"
        }
      ]
    },
    {
      "cell_type": "markdown",
      "metadata": {
        "id": "cpABJSlnttuX"
      },
      "source": [
        "---"
      ]
    },
    {
      "cell_type": "markdown",
      "metadata": {
        "id": "YjFYaSi4turb"
      },
      "source": [
        "#### 6. Cumulative Frequency\n",
        "\n",
        "The cumulative frequency is the sum of the current and the previous frequencies.\n",
        "\n",
        "Suppose there are 50 students in your class. The table below shows the distribution of the number of students secured marks out of 100 in a Math test in a particular range.\n",
        "\n",
        "|Interval|Frequency|\n",
        "|-|-|\n",
        "|40-50|5|\n",
        "|50-60|11|\n",
        "|60-70|13|\n",
        "|70-80|11|\n",
        "|80-90|8|\n",
        "|90-100|2|\n",
        "\n",
        "So, there are\n",
        "\n",
        "- 5 students who have secured marks between 40 and 50 (excluding 50)\n",
        "\n",
        "- 11 students who have secured marks between 50 and 60 (excluding 60)\n",
        "\n",
        "- 13 students who have secured marks between 60 and 70 (excluding 70)\n",
        "\n",
        "- 11 students who have secured marks between 70 and 80 (excluding 80)\n",
        "\n",
        "- 8 students who have secured marks between 80 and 90 (excluding 90)\n",
        "\n",
        "- 2 students who have secured marks between 90 and 100 (**including** 100)\n",
        "\n",
        "The cumulative frequency table for the above table is:\n",
        "\n",
        "|Interval|Frequency|Cumulative Frequency|\n",
        "|-|-|-|\n",
        "|40-50|5|5|\n",
        "|50-60|11|5 + 11 = 16|\n",
        "|60-70|13|16 + 13 = 29|\n",
        "|70-80|11|29 + 11 = 40|\n",
        "|80-90|8|40 + 8 = 48|\n",
        "|90-100|2|48 + 2 = 50|\n",
        "\n",
        "So, the cumulative frequency table tells us that there are\n",
        "\n",
        "- 5 students who have secured marks between 40 and 50 (excluding 50)\n",
        "\n",
        "- 16 students who have secured marks between 40 and 60 (excluding 60)\n",
        "\n",
        "- 29 students who have secured marks between 40 and 70 (excluding 70)\n",
        "\n",
        "- 40 students who have secured marks between 40 and 80 (excluding 80)\n",
        "\n",
        "- 48 students who have secured marks between 40 and 90 (excluding 90)\n",
        "\n",
        "- 50 students who have secured marks between 40 and 100 (**including** 100)"
      ]
    },
    {
      "cell_type": "code",
      "metadata": {
        "id": "WrC4fyRUW4vA",
        "colab": {
          "base_uri": "https://localhost:8080/"
        },
        "outputId": "09c1d553-33ac-4e52-e09a-6c9498bc72c3"
      },
      "source": [
        "# Write your code here.\n",
        "#Create a pandas series called cum_freq_x1 which contains the cumulative frequency of the x1\n",
        "#values and print the first 10 values of the series. Also, verify whether it is a pandas series.\n",
        "freq_x1=df['x1']\n",
        "l=[]\n",
        "a=0\n",
        "for i in freq_x1:\n",
        "  a=a+i\n",
        "  l.append(a)\n",
        "cum_freq_x1=pd.Series(l)\n",
        "print(cum_freq_x1.head())"
      ],
      "execution_count": null,
      "outputs": [
        {
          "output_type": "stream",
          "text": [
            "0     1\n",
            "1     3\n",
            "2     6\n",
            "3    10\n",
            "4    15\n",
            "dtype: int64\n"
          ],
          "name": "stdout"
        }
      ]
    },
    {
      "cell_type": "markdown",
      "metadata": {
        "id": "u8Wq5e6PypWJ"
      },
      "source": [
        "---"
      ]
    },
    {
      "cell_type": "markdown",
      "metadata": {
        "id": "6qa0CN4dysEr"
      },
      "source": [
        "#### 7. Minimum, Maximum, Mean And Median Values\n",
        "\n",
        "Now, print the minumum, maximum, mean and median values in the `cum_freq_x1` column in the `df` DataFrame."
      ]
    },
    {
      "cell_type": "code",
      "metadata": {
        "id": "hlVuv70Nbupg",
        "colab": {
          "base_uri": "https://localhost:8080/"
        },
        "outputId": "ebc9321e-5711-4fcd-ac61-be63905af599"
      },
      "source": [
        "# Write your code here.\n",
        "print(\"minimum value:\",cum_freq_x1.min())\n",
        "print(\"maximum value:\",cum_freq_x1.max())\n",
        "print(\"mean value:\",cum_freq_x1.mean())\n",
        "print(\"median value:\",cum_freq_x1.median())\n",
        "print(\"mode value:\",cum_freq_x1.mode())"
      ],
      "execution_count": null,
      "outputs": [
        {
          "output_type": "stream",
          "text": [
            "minimum value: 1\n",
            "maximum value: 124750\n",
            "mean value: 41750.0\n",
            "median value: 31375.0\n",
            "mode value: 0           1\n",
            "1           3\n",
            "2           6\n",
            "3          10\n",
            "4          15\n",
            "        ...  \n",
            "494    122760\n",
            "495    123256\n",
            "496    123753\n",
            "497    124251\n",
            "498    124750\n",
            "Length: 499, dtype: int64\n"
          ],
          "name": "stdout"
        }
      ]
    },
    {
      "cell_type": "markdown",
      "metadata": {
        "id": "3RiKE8vUz9IX"
      },
      "source": [
        "---"
      ]
    },
    {
      "cell_type": "markdown",
      "metadata": {
        "id": "5fKVN1TYz92o"
      },
      "source": [
        "#### 8. Scatter & Line Plots\n",
        "\n",
        "Now you have to create the scatter plots and line plots between the following columns:\n",
        "\n",
        "1. `y` and `x1`\n",
        "\n",
        "2. `y` and `x2`\n",
        "\n",
        "3. `y` and `x3`\n",
        "\n",
        "4. `y` and `x4`\n",
        "\n",
        "5. `y1` and `2 * x1 + 3 * x2 + 4 * x3 + 5 * x4`\n"
      ]
    },
    {
      "cell_type": "code",
      "metadata": {
        "id": "INB2sNXkb7zA",
        "colab": {
          "base_uri": "https://localhost:8080/",
          "height": 265
        },
        "outputId": "abce78f4-5416-4cdc-c079-e811d66ebb78"
      },
      "source": [
        "# Scatter plot between y and x1.\n",
        "# Write your code here.\n",
        "import matplotlib.pyplot as plt\n",
        "plt.figure(figsize=(4,4))\n",
        "y_value=df['y']\n",
        "x_value=df['x1']\n",
        "plt.scatter(x_value,y_value)\n",
        "plt.show()"
      ],
      "execution_count": null,
      "outputs": [
        {
          "output_type": "display_data",
          "data": {
            "image/png": "[encoded data removed]",
            "text/plain": [
              "<Figure size 288x288 with 1 Axes>"
            ]
          },
          "metadata": {
            "tags": [],
            "needs_background": "light"
          }
        }
      ]
    },
    {
      "cell_type": "code",
      "metadata": {
        "id": "0-f6QGyQcCqp",
        "colab": {
          "base_uri": "https://localhost:8080/",
          "height": 265
        },
        "outputId": "82907859-2970-4501-e696-a1b028ca7af4"
      },
      "source": [
        "# Line plot between y and x1.\n",
        "# Write your code here.\n",
        "plt.figure(figsize=(4,4))\n",
        "plt.plot(x_value,y_value)\n",
        "plt.show()"
      ],
      "execution_count": null,
      "outputs": [
        {
          "output_type": "display_data",
          "data": {
            "image/png": "[encoded data removed]",
            "text/plain": [
              "<Figure size 288x288 with 1 Axes>"
            ]
          },
          "metadata": {
            "tags": [],
            "needs_background": "light"
          }
        }
      ]
    },
    {
      "cell_type": "code",
      "metadata": {
        "id": "8QbZWktDcFxc",
        "colab": {
          "base_uri": "https://localhost:8080/",
          "height": 265
        },
        "outputId": "fddace3e-536f-4e83-9331-fd125ca7ad08"
      },
      "source": [
        "# Scatter plot between y and x2.\n",
        "# Write your code here.\n",
        "plt.figure(figsize=(4,4))\n",
        "x_value2=df['y']\n",
        "y_value2=df['x2']\n",
        "plt.scatter(x_value2,y_value2)\n",
        "plt.show()"
      ],
      "execution_count": null,
      "outputs": [
        {
          "output_type": "display_data",
          "data": {
            "image/png": "[encoded data removed]",
            "text/plain": [
              "<Figure size 288x288 with 1 Axes>"
            ]
          },
          "metadata": {
            "tags": [],
            "needs_background": "light"
          }
        }
      ]
    },
    {
      "cell_type": "code",
      "metadata": {
        "id": "K0Z7s3nycIU2",
        "colab": {
          "base_uri": "https://localhost:8080/",
          "height": 265
        },
        "outputId": "a5ae3f6c-765e-4140-f431-e6e83b4c43cd"
      },
      "source": [
        "# Line plot between y and x2.\n",
        "# Write your code here.\n",
        "plt.figure(figsize=(4,4))\n",
        "plt.plot(x_value2,y_value2)\n",
        "plt.show()"
      ],
      "execution_count": null,
      "outputs": [
        {
          "output_type": "display_data",
          "data": {
            "image/png": "[encoded data removed]",
            "text/plain": [
              "<Figure size 288x288 with 1 Axes>"
            ]
          },
          "metadata": {
            "tags": [],
            "needs_background": "light"
          }
        }
      ]
    },
    {
      "cell_type": "code",
      "metadata": {
        "id": "djwL88fNjNBQ",
        "colab": {
          "base_uri": "https://localhost:8080/",
          "height": 265
        },
        "outputId": "b4a7d690-be7e-45e6-8f24-e0d5a9b6ab78"
      },
      "source": [
        "# Scatter plot between y and x3.\n",
        "# Write your code here.\n",
        "plt.figure(figsize=(4,4))\n",
        "x_value3=df['y']\n",
        "y_value3=df['x3']\n",
        "plt.scatter(x_value3,y_value3)\n",
        "plt.show()"
      ],
      "execution_count": null,
      "outputs": [
        {
          "output_type": "display_data",
          "data": {
            "image/png": "[encoded data removed]",
            "text/plain": [
              "<Figure size 288x288 with 1 Axes>"
            ]
          },
          "metadata": {
            "tags": [],
            "needs_background": "light"
          }
        }
      ]
    },
    {
      "cell_type": "code",
      "metadata": {
        "id": "rQ_Kcw7ikwpt",
        "colab": {
          "base_uri": "https://localhost:8080/",
          "height": 265
        },
        "outputId": "bb6c9243-50ad-4860-b949-cb9d2d4932c9"
      },
      "source": [
        "# Line plot between y and x3.\n",
        "# Write your code here.\n",
        "plt.figure(figsize=(4,4))\n",
        "plt.plot(x_value3,y_value3)\n",
        "plt.show()"
      ],
      "execution_count": null,
      "outputs": [
        {
          "output_type": "display_data",
          "data": {
            "image/png": "[encoded data removed]",
            "text/plain": [
              "<Figure size 288x288 with 1 Axes>"
            ]
          },
          "metadata": {
            "tags": [],
            "needs_background": "light"
          }
        }
      ]
    },
    {
      "cell_type": "code",
      "metadata": {
        "id": "oFY-C9pG1ofU",
        "colab": {
          "base_uri": "https://localhost:8080/",
          "height": 265
        },
        "outputId": "e80106b2-33bd-44d6-a12a-f960e7ddaa2f"
      },
      "source": [
        "# Scatter plot between y and x4.\n",
        "# Write your code here.\n",
        "plt.figure(figsize=(4,4))\n",
        "x_value4=df['y']\n",
        "y_value4=df['x4']\n",
        "plt.scatter(x_value4,y_value4)\n",
        "plt.show()"
      ],
      "execution_count": null,
      "outputs": [
        {
          "output_type": "display_data",
          "data": {
            "image/png": "[encoded data removed]",
            "text/plain": [
              "<Figure size 288x288 with 1 Axes>"
            ]
          },
          "metadata": {
            "tags": [],
            "needs_background": "light"
          }
        }
      ]
    },
    {
      "cell_type": "code",
      "metadata": {
        "id": "V7OJ1Cam1sMS",
        "colab": {
          "base_uri": "https://localhost:8080/",
          "height": 265
        },
        "outputId": "e0a20d94-7ba4-4bd6-b68c-320ff78ab9fb"
      },
      "source": [
        "# Line plot between y and x4.\n",
        "# Write your code here.\n",
        "plt.figure(figsize=(4,4))\n",
        "plt.plot(x_value4,y_value4)\n",
        "plt.show()"
      ],
      "execution_count": null,
      "outputs": [
        {
          "output_type": "display_data",
          "data": {
            "image/png": "[encoded data removed]",
            "text/plain": [
              "<Figure size 288x288 with 1 Axes>"
            ]
          },
          "metadata": {
            "tags": [],
            "needs_background": "light"
          }
        }
      ]
    },
    {
      "cell_type": "code",
      "metadata": {
        "id": "NF6HV0ij1yPT",
        "colab": {
          "base_uri": "https://localhost:8080/",
          "height": 282
        },
        "outputId": "5b0b20e2-2027-48a6-db48-ab4adcb2e90c"
      },
      "source": [
        "# Scatter plot between y and 2 * x1 + 3 * x2 + 4 * x3 + 5 * x4.\n",
        "# Write your code here.\n",
        "import numpy as np\n",
        "x1=np.array(df['x1'])\n",
        "x2=np.array(df['x2'])\n",
        "x3=np.array(df['x3'])\n",
        "x4=np.array(df['x4'])\n",
        "an_array=(2*x1 + 3*x2 + 4*x3 + 5*x4)\n",
        "a_pd_ser=pd.Series(an_array)\n",
        "plt.figure(figsize=(4,4))\n",
        "x_value5=df['y']\n",
        "y_value5=a_pd_ser\n",
        "plt.scatter(x_value5,y_value5)\n",
        "plt.show()"
      ],
      "execution_count": null,
      "outputs": [
        {
          "output_type": "stream",
          "text": [
            "499 499\n"
          ],
          "name": "stdout"
        },
        {
          "output_type": "display_data",
          "data": {
            "image/png": "[encoded data removed]",
            "text/plain": [
              "<Figure size 288x288 with 1 Axes>"
            ]
          },
          "metadata": {
            "tags": [],
            "needs_background": "light"
          }
        }
      ]
    },
    {
      "cell_type": "code",
      "metadata": {
        "id": "qcezxtHf2Qe3",
        "colab": {
          "base_uri": "https://localhost:8080/",
          "height": 265
        },
        "outputId": "24d4b718-2b5f-4727-8547-ba01ca2cc094"
      },
      "source": [
        "# Line plot between y and 2 * x1 + 3 * x2 + 4 * x3 + 5 * x4.\n",
        "# Write your code here.\n",
        "plt.figure(figsize=(4,4))\n",
        "plt.plot(x_value5,y_value5)\n",
        "plt.show()"
      ],
      "execution_count": null,
      "outputs": [
        {
          "output_type": "display_data",
          "data": {
            "image/png": "[encoded data removed]",
            "text/plain": [
              "<Figure size 288x288 with 1 Axes>"
            ]
          },
          "metadata": {
            "tags": [],
            "needs_background": "light"
          }
        }
      ]
    },
    {
      "cell_type": "markdown",
      "metadata": {
        "id": "PzQcuhZ0B_MJ"
      },
      "source": [
        "---"
      ]
    },
    {
      "cell_type": "markdown",
      "metadata": {
        "id": "IUi6Wny6Fr9j"
      },
      "source": [
        "### Submitting the Project\n",
        "\n",
        "Follow the steps described below to submit the project.\n",
        "\n",
        "1. After finishing the project, click on the **Share** button on the top right corner of the notebook. A new dialog box will appear.\n",
        "\n",
        "  <img src='https://student-datasets-bucket.s3.ap-south-1.amazonaws.com/images/project-share-images/2_share_button.png' width=500>\n",
        "\n",
        "2. In the dialog box, click on the **Copy link** button.\n",
        "\n",
        "   <img src='https://student-datasets-bucket.s3.ap-south-1.amazonaws.com/images/project-share-images/3_copy_link.png' width=500>\n",
        "\n",
        "\n",
        "3. The link of the duplicate copy (named as **YYYY-MM-DD_StudentName_CapstoneProject4**) of the notebook will get copied\n",
        "\n",
        "   <img src='https://student-datasets-bucket.s3.ap-south-1.amazonaws.com/images/project-share-images/4_copy_link_confirmation.png' width=500>\n",
        "\n",
        "4. Go to your dashboard and click on the **My Projects** option.\n",
        "\n",
        "   <img src='https://student-datasets-bucket.s3.ap-south-1.amazonaws.com/images/project-share-images/5_student_dashboard.png' width=800>\n",
        "\n",
        "   <img src='https://student-datasets-bucket.s3.ap-south-1.amazonaws.com/images/project-share-images/6_my_projects.png' width=800>\n",
        "\n",
        "5. Click on the **View Project** button for the project you want to submit.\n",
        "\n",
        "   <img src='https://student-datasets-bucket.s3.ap-south-1.amazonaws.com/images/project-share-images/7_view_project.png' width=800>\n",
        "\n",
        "6. Click on the **Submit Project Here** button.\n",
        "\n",
        "   <img src='https://student-datasets-bucket.s3.ap-south-1.amazonaws.com/images/project-share-images/8_submit_project.png' width=800>\n",
        "\n",
        "7. Paste the link to the project file named as **YYYY-MM-DD_StudentName_CapstoneProject4** in the URL box and then click on the **Submit** button.\n",
        "\n",
        "   <img src='https://student-datasets-bucket.s3.ap-south-1.amazonaws.com/images/project-share-images/9_enter_project_url.png' width=800>\n"
      ]
    },
    {
      "cell_type": "markdown",
      "metadata": {
        "id": "XvfZWGQUF96l"
      },
      "source": [
        "---"
      ]
    }
  ]
}