{
  "nbformat": 4,
  "nbformat_minor": 0,
  "metadata": {
    "colab": {
      "provenance": [],
      "include_colab_link": true
    },
    "kernelspec": {
      "name": "python3",
      "display_name": "Python 3"
    }
  },
  "cells": [
    {
      "cell_type": "markdown",
      "metadata": {
        "id": "view-in-github",
        "colab_type": "text"
      },
      "source": [
        "<a href=\"https://colab.research.google.com/github/nikshargithub/ML_PROJECTS/blob/main/2023_07_17__NIKHIL_SHARMA_PROJECT_57.ipynb\" target=\"_parent\"><img src=\"https://colab.research.google.com/assets/colab-badge.svg\" alt=\"Open In Colab\"/></a>"
      ]
    },
    {
      "cell_type": "markdown",
      "metadata": {
        "id": "UYmMpXkNw9I6"
      },
      "source": [
        "### Instructions"
      ]
    },
    {
      "cell_type": "markdown",
      "metadata": {
        "id": "64Zy490qzVsZ"
      },
      "source": [
        "#### Goal of the Project\n",
        "\n",
        "This project is designed for you to practice and solve the activities that are based on the concepts covered in the following lessons:\n",
        "\n",
        " 1. Classes and Objects\n",
        "\n",
        " 2. Inheritance\n",
        "\n",
        " 3. Polymorphism II"
      ]
    },
    {
      "cell_type": "markdown",
      "metadata": {
        "id": "dSRd3do_m_M4"
      },
      "source": [
        "---"
      ]
    },
    {
      "cell_type": "markdown",
      "metadata": {
        "id": "96BgyMNdoywF"
      },
      "source": [
        "#### Getting Started:\n",
        "\n",
        "1. Follow the next 3 steps to create a copy of this colab file and start working on the project.\n",
        "\n",
        "2. Create a duplicate copy of the Colab file as described below.\n",
        "\n",
        "  - Click on the **File menu**. A new drop-down list will appear.\n",
        "\n",
        "   <img src='https://student-datasets-bucket.s3.ap-south-1.amazonaws.com/images/lesson-0/0_file_menu.png' width=500>\n",
        "\n",
        "  - Click on the **Save a copy in Drive** option. A duplicate copy will get created. It will open up in the new tab on your web browser.\n",
        "\n",
        "  <img src='https://student-datasets-bucket.s3.ap-south-1.amazonaws.com/images/lesson-0/1_create_colab_duplicate_copy.png' width=500>\n",
        "\n",
        "3. After creating the duplicate copy of the notebook, please rename it in the **YYYY-MM-DD_StudentName_Project57** format.\n",
        "\n",
        "4. Now, write your code in the prescribed code cells.\n"
      ]
    },
    {
      "cell_type": "markdown",
      "metadata": {
        "id": "JQiBkmICo9Df"
      },
      "source": [
        "---"
      ]
    },
    {
      "cell_type": "markdown",
      "metadata": {
        "id": "2i36Yv3-MPY5"
      },
      "source": [
        "### Problem Statement\n",
        "\n",
        "\n",
        "In this project, create a **Payroll System** for a company to perform payroll calculations based on an employee inheritance hierarchy that meets the following requirements:\n",
        "\n",
        "The company has three types of employees:\n",
        "- **Salaried employees:** They are paid a fixed salary regardless of the number of hours they work. Their salary is calculated by adding the basic salary, TA (Travelling allowance), DA (Dearness allowance) and HRA (House rent allowance).\n",
        "\n",
        "- **Hourly employees:** They are paid on an hourly basis i.e. the number of hours they work.\n",
        "\n",
        "- **Commission employees:** They are paid a percentage of their sales.\n",
        "\n",
        "\n",
        "\n",
        "  "
      ]
    },
    {
      "cell_type": "markdown",
      "metadata": {
        "id": "YUVCq0gkq1BZ"
      },
      "source": [
        "---"
      ]
    },
    {
      "cell_type": "markdown",
      "metadata": {
        "id": "toeLx5LJpIV-"
      },
      "source": [
        "### List of Activities\n",
        "\n",
        "**Activity 1:** Create a parent class `Employee`.\n",
        "\n",
        "**Activity 2:** Create a child class `SalariedEmployee`.\n",
        "\n",
        "**Activity 3:** Create a child class `HourlyEmployee`.\n",
        "\n",
        "**Activity 4:** Create a child class `CommissionEmployee`.\n",
        "\n",
        "**Activity 5:** Create objects of all the child classes and call the functions.\n"
      ]
    },
    {
      "cell_type": "markdown",
      "metadata": {
        "id": "seBJxEBPq3PV"
      },
      "source": [
        "---"
      ]
    },
    {
      "cell_type": "markdown",
      "metadata": {
        "id": "j5RcICzZlJeZ"
      },
      "source": [
        "#### Activity 1: Create a Parent Class `Employee`.\n",
        "\n",
        "\n",
        "1. Create a parent class `Employee`. The constructor of this class must initialise the following instance variables:\n",
        "\n",
        "  - `empid`: Employee id.\n",
        "\n",
        "  - `empname`: Employee name.\n",
        "\n",
        "  - `ssn`: Social Security Number.  \n",
        "\n",
        "2. Also, add an instance variable `salary` and initialise it to `None`.\n",
        "\n",
        "3. Create an empty function `calculate_salary()` which will be used in child classes to calculate the value of `salary` variable based on the type of employee.\n",
        "\n",
        "4. Also, add a `__repr__()` function to print all the details of an employee including their calculated salary.\n"
      ]
    },
    {
      "cell_type": "code",
      "metadata": {
        "id": "g0LB4jijVd3l"
      },
      "source": [
        "#  Create class 'Employee'. Add constructor to initialise variables\n",
        "class Employee:\n",
        "  def __init__(self,empid,empname,ssn,salary=None):\n",
        "    self.empid = empid\n",
        "    self.empname = empname\n",
        "    self.ssn = ssn\n",
        "    self.salary = salary\n",
        "\n",
        "  def calculate_salary(self):\n",
        "    pass\n",
        "\n",
        "  def __repr__(self):\n",
        "    return \"empid:{} \\nempname:{} \\nssn:{} \\ncalculated salary:{}\".format(self.empid,self.empname,self.ssn,self.calculate_salary())\n"
      ],
      "execution_count": null,
      "outputs": []
    },
    {
      "cell_type": "markdown",
      "metadata": {
        "id": "ZdXklYTDrKFS"
      },
      "source": [
        "---"
      ]
    },
    {
      "cell_type": "markdown",
      "metadata": {
        "id": "WCmI9RJ5nhkA"
      },
      "source": [
        "####Activity 2: Create a Child Class `SalariedEmployee`.\n",
        "\n",
        "1. Create a class `SalariedEmployee` that inherits from the parent class `Employee`. In addition to the properties of the parent class, the constructor of this class must initialise the following properties with the values:\n",
        "\n",
        "  - `ta`: Travelling allowance. Initialise it to any value of your choice.\n",
        "\n",
        "  - `da`: Dearness allowance. Initialise it to any value of your choice.\n",
        "\n",
        "  - `hra`: House rent allowance. Initialise it to any value of your choice.\n",
        "\n",
        "3. **Override** the function `calculate_salary()` of the parent class `Employee`. Inside this function, ask the user to enter the basic salary and store it in the `basic` variable. Add `basic`, `ta`, `da`, `hra` and store the result in the `salary` variable and return this `salary`.\n",
        "\n"
      ]
    },
    {
      "cell_type": "code",
      "metadata": {
        "id": "uV_EvB_kYm3Y"
      },
      "source": [
        "#  Create a child class 'SalariedEmployee'. Add constructor and override `calculate_salary()` function\n",
        "class SalariedEmployee(Employee):\n",
        "  def __init__(self,empid,empname,ssn,salary,ta=10000,da=20000,hra=30000):\n",
        "    super().__init__(empid,empname,ssn,salary)\n",
        "    self.ta = ta\n",
        "    self.da = da\n",
        "    self.hra = hra\n",
        "\n",
        "  def calculate_salary(self):\n",
        "    basic = int(input('enter basic salary: '))\n",
        "    self.salary = basic+self.ta+self.da+self.hra\n",
        "    return self.salary"
      ],
      "execution_count": null,
      "outputs": []
    },
    {
      "cell_type": "markdown",
      "metadata": {
        "id": "knB5aLw3rMQ6"
      },
      "source": [
        "---"
      ]
    },
    {
      "cell_type": "markdown",
      "metadata": {
        "id": "yp677EuAc_QO"
      },
      "source": [
        "#### Activity 3: Create a Child Class `HourlyEmployee`\n",
        "\n",
        "1. Create another child class `HourlyEmployee` that inherits from the parent class `Employee`. In addition to the properties of the parent class, the constructor of this class must initialise an instance variable `per_hour` to any specific value.\n",
        "\n",
        "2. **Override** the function `calculate_salary()` of the parent class `Employee`. Inside this function, ask the user to enter the number of hours an employee worked. Then, calculate the `salary` by multiplying the number of hours with the amount paid `per_hour` and return this `salary`.\n",
        "\n"
      ]
    },
    {
      "cell_type": "code",
      "metadata": {
        "id": "ikp1xjtbd0TW"
      },
      "source": [
        "#  Create a child class 'HourlyEmployee'. Add constructor and override `calculate_salary()` function\n",
        "class HourlyEmployee(Employee):\n",
        "  def __init__(self,empid,empname,ssn,salary,per_hour=5000):\n",
        "    super().__init__(empid,empname,ssn,salary)\n",
        "    self.per_hour = per_hour\n",
        "\n",
        "  def calculate_salary(self):\n",
        "    num_hour = int(input('Enter number of hours worked: '))\n",
        "    self.salary = num_hour*self.per_hour\n",
        "    return self.salary"
      ],
      "execution_count": null,
      "outputs": []
    },
    {
      "cell_type": "markdown",
      "metadata": {
        "id": "pdeqKOZ2eqmV"
      },
      "source": [
        "---"
      ]
    },
    {
      "cell_type": "markdown",
      "metadata": {
        "id": "1M6S8jZverzF"
      },
      "source": [
        "#### Activity 4: Create a Child Class `CommissionEmployee`\n",
        "\n",
        "1. Create a child class `CommissionEmployee` that inherits from the parent class `Employee`. In addition to the properties of the parent class, the constructor of this class must initialise an instance variable `commission_rate` to any specific value.\n",
        "\n",
        "2. **Override** the function `calculate_salary()` of the parent class `Employee`. Inside this function, ask the user to enter the gross sales and calculate the `salary` by multiplying the gross sales with the `commission_rate`. Return this `salary`.\n",
        "\n"
      ]
    },
    {
      "cell_type": "code",
      "metadata": {
        "id": "GltV3a81gRU7"
      },
      "source": [
        "#  Create a child class 'CommissionEmployee'. Add constructor and override `calculate_salary()` function\n",
        "class CommissionEmployee(Employee):\n",
        "  def __init__(self,empid,empname,ssn,salary,commission_rate=0.10):\n",
        "    super().__init__(empid,empname,ssn,salary)\n",
        "    self.commission_rate = commission_rate\n",
        "\n",
        "  def calculate_salary(self):\n",
        "    gross_sales = int(input('enter sales: '))\n",
        "    self.salary = gross_sales*self.commission_rate\n",
        "    return self.salary"
      ],
      "execution_count": null,
      "outputs": []
    },
    {
      "cell_type": "markdown",
      "metadata": {
        "id": "YKsTZWAmhTCQ"
      },
      "source": [
        "---"
      ]
    },
    {
      "cell_type": "markdown",
      "metadata": {
        "id": "BDJL4PuAhU58"
      },
      "source": [
        "#### Activity 5: Create Object and Call the Function\n",
        "\n",
        "Create an infinite `while` loop. Inside this `while` loop, perform the following tasks:\n",
        "1. Ask the user to enter the employee id, employee name and social security number and store each one of them in separate variables.\n",
        "2. Ask the user to enter the type of employee by displaying the following options:\n",
        "```\n",
        "    Enter 1 for Salaried employee  \n",
        "    Enter 2 for Hourly employee\n",
        "    Enter 3 for Commission Employee\n",
        "```\n",
        "3. Take user input and store it in a variable `user_input`. Check whether the user entered any input other than 1, 2, or 3. If yes, then display a message \"Please enter a valid option\" and keep on asking for user input unless the user enters a valid choice.\n",
        "\n",
        "4. Now using the `if-elif-else` statement, check `user_input`:\n",
        "    - If `user_input`== 1, create object of `SalariedEmployee` class.\n",
        "    - If `user_input`== 2, create object of `HourlyEmployee` class.\n",
        "    - If `user_input`== 3, create object of `CommissionEmployee` class.\n",
        "   \n",
        "   Also, pass the employee id, employee name and social security number as parameters while creating the object of the child class.\n",
        "\n",
        "5. Call the `calculate_salary()` function using the object of the child class and print the details of the employee.\n",
        "\n",
        "6. Ask the user whether it wishes to continue running the application. If no, then break the infinite `while` loop.\n"
      ]
    },
    {
      "cell_type": "code",
      "metadata": {
        "id": "6BqwZUTVidd8",
        "colab": {
          "base_uri": "https://localhost:8080/"
        },
        "outputId": "5a49c8d3-5623-4ee1-e4fc-30396a5729f5"
      },
      "source": [
        "# Create an infinite while loop\n",
        "ans = 'y'\n",
        "while ans == 'y':\n",
        "  empid = int(input('enter employee id: '))\n",
        "  empname = input('enter employee name: ')\n",
        "  ssn = int(input('enter employee social security number: '))\n",
        "  user_input = int(input('Enter 1 for salaried employee\\nEnter 2 for Hourly employee\\nEnter 3 for Commission Employee\\n'))\n",
        "  while user_input not in [1,2,3]:\n",
        "    print('invalid input')\n",
        "    user_input = input('Enter 1 for salaried employee\\nEnter 2 for Hourly employee\\nEnter 3 for Commission Employee')\n",
        "  if user_input == 1:\n",
        "    emp1 = SalariedEmployee(empid,empname,ssn,salary=None)\n",
        "    print(emp1)\n",
        "  elif user_input == 2:\n",
        "    emp2 = HourlyEmployee(empid,empname,ssn,salary=None)\n",
        "    print(emp2)\n",
        "  else:\n",
        "    emp3 = CommissionEmployee(empid,empname,ssn,salary = None)\n",
        "    print(emp3)\n",
        "  ans = input('Do you wish to continue(y/n): ')\n",
        "\n",
        "\n"
      ],
      "execution_count": null,
      "outputs": [
        {
          "name": "stdout",
          "output_type": "stream",
          "text": [
            "enter employee id: 1011\n",
            "enter employee name: Niall\n",
            "enter employee social security number: 1234321\n",
            "Enter 1 for salaried employee\n",
            "Enter 2 for Hourly employee\n",
            "Enter 3 for Commission Employee\n",
            "1\n",
            "enter basic salary: 500000\n",
            "empid:1011 \n",
            "empname:Niall \n",
            "ssn:1234321 \n",
            "calculated salary:560000\n",
            "Do you wish to continue(y/n): y\n",
            "enter employee id: 1102\n",
            "enter employee name: Harry\n",
            "enter employee social security number: 1357531\n",
            "Enter 1 for salaried employee\n",
            "Enter 2 for Hourly employee\n",
            "Enter 3 for Commission Employee\n",
            "2\n",
            "Enter number of hours worked: 8\n",
            "empid:1102 \n",
            "empname:Harry \n",
            "ssn:1357531 \n",
            "calculated salary:40000\n",
            "Do you wish to continue(y/n): y\n",
            "enter employee id: 1201\n",
            "enter employee name: liam\n",
            "enter employee social security number: 2468642\n",
            "Enter 1 for salaried employee\n",
            "Enter 2 for Hourly employee\n",
            "Enter 3 for Commission Employee\n",
            "3\n",
            "enter sales: 500000\n",
            "empid:1201 \n",
            "empname:liam \n",
            "ssn:2468642 \n",
            "calculated salary:50000.0\n",
            "Do you wish to continue(y/n): n\n"
          ]
        }
      ]
    },
    {
      "cell_type": "markdown",
      "metadata": {
        "id": "gJ49xrTorOiU"
      },
      "source": [
        "---"
      ]
    },
    {
      "cell_type": "markdown",
      "metadata": {
        "id": "w8rwP8DWo_gX"
      },
      "source": [
        "### Submitting the Project:\n",
        "\n",
        "1. After finishing the project, click on the **Share** button on the top right corner of the notebook. A new dialog box will appear.\n",
        "\n",
        "  <img src='https://student-datasets-bucket.s3.ap-south-1.amazonaws.com/images/project-share-images/2_share_button.png' width=500>\n",
        "\n",
        "2. In the dialog box, make sure that '**Anyone on the Internet with this link can view**' option is selected and then click on the **Copy link** button.\n",
        "\n",
        "   <img src='https://student-datasets-bucket.s3.ap-south-1.amazonaws.com/images/project-share-images/3_copy_link.png' width=500>\n",
        "\n",
        "3. The link of the duplicate copy (named as **YYYY-MM-DD_StudentName_Project57**) of the notebook will get copied\n",
        "\n",
        "   <img src='https://student-datasets-bucket.s3.ap-south-1.amazonaws.com/images/project-share-images/4_copy_link_confirmation.png' width=500>\n",
        "\n",
        "4. Go to your dashboard and click on the **My Projects** option.\n",
        "   \n",
        "   <img src='https://student-datasets-bucket.s3.ap-south-1.amazonaws.com/images/project-share-images/5_student_dashboard.png' width=800>\n",
        "\n",
        "  <img src='https://student-datasets-bucket.s3.ap-south-1.amazonaws.com/images/project-share-images/6_my_projects.png' width=800>\n",
        "\n",
        "5. Click on the **View Project** button for the project you want to submit.\n",
        "\n",
        "   <img src='https://student-datasets-bucket.s3.ap-south-1.amazonaws.com/images/project-share-images/7_view_project.png' width=800>\n",
        "\n",
        "6. Click on the **Submit Project Here** button.\n",
        "\n",
        "   <img src='https://student-datasets-bucket.s3.ap-south-1.amazonaws.com/images/project-share-images/8_submit_project.png' width=800>\n",
        "\n",
        "7. Paste the link to the project file named as **YYYY-MM-DD_StudentName_Project57** in the URL box and then click on the **Submit** button.\n",
        "\n",
        "   <img src='https://student-datasets-bucket.s3.ap-south-1.amazonaws.com/images/project-share-images/9_enter_project_url.png' width=800>"
      ]
    },
    {
      "cell_type": "markdown",
      "metadata": {
        "id": "GPfVJRG0pL_6"
      },
      "source": [
        "---"
      ]
    }
  ]
}