{
  "nbformat": 4,
  "nbformat_minor": 0,
  "metadata": {
    "colab": {
      "provenance": [],
      "include_colab_link": true
    },
    "kernelspec": {
      "name": "python3",
      "display_name": "Python 3"
    }
  },
  "cells": [
    {
      "cell_type": "markdown",
      "metadata": {
        "id": "view-in-github",
        "colab_type": "text"
      },
      "source": [
        "<a href=\"https://colab.research.google.com/github/nikshargithub/ML_PROJECTS/blob/main/2024_01_16_NIKHIL_SHARMA_PROJECT_80.ipynb\" target=\"_parent\"><img src=\"https://colab.research.google.com/assets/colab-badge.svg\" alt=\"Open In Colab\"/></a>"
      ]
    },
    {
      "cell_type": "markdown",
      "metadata": {
        "id": "erYQyGJOT0Ya"
      },
      "source": [
        "### Instructions"
      ]
    },
    {
      "cell_type": "markdown",
      "metadata": {
        "id": "Y3MP63loT5wP"
      },
      "source": [
        "#### Goal of the Project\n",
        "\n",
        "This project is designed for you to practice and solve the activities that are based on the concepts covered in the following lessons:\n",
        "\n",
        " 1. Logistic Regression - Univariate Classification I\n",
        "\n",
        " 2. Logistic Regression - Decision Boundary\n",
        "\n",
        " 3. Logistic Regression - Multiclass Classification I\n",
        "\n",
        "\n"
      ]
    },
    {
      "cell_type": "markdown",
      "metadata": {
        "id": "9c6PRCvhv4PR"
      },
      "source": [
        "---"
      ]
    },
    {
      "cell_type": "markdown",
      "metadata": {
        "id": "xBqnPkpftDXI"
      },
      "source": [
        "#### Getting Started:\n",
        "\n",
        "1. Follow the next 3 steps to create a copy of this colab file and start working on the project.\n",
        "\n",
        "2. Create a duplicate copy of the Colab file as described below.\n",
        "\n",
        "  - Click on the **File menu**. A new drop-down list will appear.\n",
        "\n",
        "   <img src='https://student-datasets-bucket.s3.ap-south-1.amazonaws.com/images/lesson-0/0_file_menu.png' width=500>\n",
        "\n",
        "  - Click on the **Save a copy in Drive** option. A duplicate copy will get created. It will open up in the new tab on your web browser.\n",
        "\n",
        "  <img src='https://student-datasets-bucket.s3.ap-south-1.amazonaws.com/images/lesson-0/1_create_colab_duplicate_copy.png' width=500>\n",
        "\n",
        "3. After creating the duplicate copy of the notebook, please rename it in the **YYYY-MM-DD_StudentName_Project80** format.\n",
        "\n",
        "4. Now, write your code in the prescribed code cells.\n"
      ]
    },
    {
      "cell_type": "markdown",
      "metadata": {
        "id": "jHG5AAontFHH"
      },
      "source": [
        "---"
      ]
    },
    {
      "cell_type": "markdown",
      "metadata": {
        "id": "Y8OJHhG4v5ej"
      },
      "source": [
        "### Problem Statement\n",
        "\n",
        "In this project, you are going to create your own synthetic data for multiclass classification and create a Logistic Regression model to classify the data using Machine Learning.\n"
      ]
    },
    {
      "cell_type": "markdown",
      "metadata": {
        "id": "cV6O1B17yAmf"
      },
      "source": [
        "---"
      ]
    },
    {
      "cell_type": "markdown",
      "metadata": {
        "id": "7QID5cPsyBMs"
      },
      "source": [
        "### List of Activities\n",
        "\n",
        "**Activity 1:** Create the Dummy Dataset\n",
        "\n",
        "**Activity 2:**  Dataset Inspection\n",
        "\n",
        "**Activity 3:**  Train-Test Split\n",
        "\n",
        "**Activity 4:** Logistic Regression - Model Training\n",
        "\n",
        "**Activity 5:** Model Prediction and Evaluation - Training Set\n",
        "\n",
        "**Activity 6:** Model Prediction and Evaluation - Testing Set\n"
      ]
    },
    {
      "cell_type": "markdown",
      "metadata": {
        "id": "Gddd4cfWyEOa"
      },
      "source": [
        "---"
      ]
    },
    {
      "cell_type": "markdown",
      "metadata": {
        "id": "0vmj2glW8aKa"
      },
      "source": [
        "#### Activity 1: Create Dummy Dataset\n",
        "\n",
        "In this activity, you have to create a dummy dataset for multiclass classification.\n",
        "\n",
        "The steps to be followed are as follows:\n",
        "\n",
        "**1.** Create a dummy dataset having two columns representing two independent variables and a third column representing the target.  \n",
        "\n",
        "  The number of records should be divided into 6 random groups like `[200, 4270, 7930, 21, 3331, 2721]` such that the target columns has 6 different labels `[0, 1, 2, 3, 4, 5]`.\n",
        "\n",
        "\n",
        "  **Recall:**\n",
        "\n",
        "  To create a dummy data-frame, use the `make_blob()` function of the `sklearn.datasets` module which will return two arrays `feature_array` and the `target_array`. The syntax for the `make_blob()` function is as follows:\n",
        "\n",
        "  **Syntax:** `make_blobs(n_samples, centers, n_features, random_state, cluster_std)`\n",
        "\n"
      ]
    },
    {
      "cell_type": "code",
      "metadata": {
        "id": "eOGnVSR5i_yH"
      },
      "source": [
        "# Create two arrays using the 'make_blobs()' function and store them in the 'features_array' and 'target_array' variables.\n",
        "from sklearn.datasets import make_blobs\n",
        "features_array,target_array = make_blobs(n_samples = [200,4270,7930,21,3331,2721],centers=None,n_features=2,random_state=42,cluster_std=0.01 )"
      ],
      "execution_count": null,
      "outputs": []
    },
    {
      "cell_type": "markdown",
      "metadata": {
        "id": "t7zQGUC6wXub"
      },
      "source": [
        "**Hint:**\n",
        "\n",
        "In the `make_blobs()` function use `n_samples=[200, 4270, 7930,21,3331,2721]` and `center=None` for the division of target label into seven groups.\n",
        "\n",
        "----\n",
        "**2.** Print the object-type of the arrays created by the `make_blob()` function and also print the number of rows and columns in them."
      ]
    },
    {
      "cell_type": "code",
      "metadata": {
        "id": "qhAqeMOZkIGP",
        "colab": {
          "base_uri": "https://localhost:8080/"
        },
        "outputId": "ccf0447f-f28f-4179-8eea-c4cd9ace9ca9"
      },
      "source": [
        "# Find out the object-type of the arrays created by the 'make_blob()' function and the number of rows and columns in them.\n",
        "\n",
        "# Print the type of 'features_array' and 'target_array'\n",
        "print(type(features_array), type(target_array))\n",
        "\n",
        "# Print the number of rows and column of 'features_array'\n",
        "print(features_array.shape[0])\n",
        "# Print the number of rows and column of 'target_array'\n",
        "print(target_array.shape[0])"
      ],
      "execution_count": null,
      "outputs": [
        {
          "output_type": "stream",
          "name": "stdout",
          "text": [
            "<class 'numpy.ndarray'> <class 'numpy.ndarray'>\n",
            "18473\n",
            "18473\n"
          ]
        }
      ]
    },
    {
      "cell_type": "markdown",
      "metadata": {
        "id": "ZzLDfaaVxKNw"
      },
      "source": [
        "**Q:** How many rows are created in the feature and target columns?\n",
        "\n",
        "**A:**18473\n",
        "\n",
        "----\n",
        "**3.** Create a DataFrame from the two arrays using a Python dictionary.\n",
        "\n",
        "**Steps: (Learnt in \"Logistic Regression - Decision Boundary\" lesson**)\n",
        "- Create a dummy dicitonary.\n",
        "\n",
        "- Add the feature columns as keys `col 1`, `col 2` and target column as `target`.\n",
        "\n",
        "- Add the values from the feature and target columns one by one respectively in the dictionary using List Comprehension.\n",
        "\n",
        "- Convert the dictionary into a DataFrame\n",
        "\n",
        "- Print first five rows of the DataFrame."
      ]
    },
    {
      "cell_type": "code",
      "source": [
        "features_array"
      ],
      "metadata": {
        "colab": {
          "base_uri": "https://localhost:8080/"
        },
        "id": "tKph88cxozIR",
        "outputId": "415b492a-138d-4f47-8735-54ecde28f041"
      },
      "execution_count": null,
      "outputs": [
        {
          "output_type": "execute_result",
          "data": {
            "text/plain": [
              "array([[-2.49761651,  9.02220276],\n",
              "       [-6.88367638, -6.87491829],\n",
              "       [-6.88357786, -6.88087147],\n",
              "       ...,\n",
              "       [-6.8878921 , -6.88877933],\n",
              "       [ 2.00154877,  4.15575144],\n",
              "       [-6.88686156, -6.91210224]])"
            ]
          },
          "metadata": {},
          "execution_count": 9
        }
      ]
    },
    {
      "cell_type": "code",
      "metadata": {
        "id": "gWVs_3bikNw_",
        "colab": {
          "base_uri": "https://localhost:8080/",
          "height": 206
        },
        "outputId": "69f8cdcc-92dc-47c2-963c-b2b8305cfb86"
      },
      "source": [
        "# Create a Pandas DataFrame containing the items from the 'features_array' and 'target_array' arrays.\n",
        "\n",
        "# Import the module\n",
        "import pandas as pd\n",
        "import matplotlib.pyplot as plt\n",
        "import numpy as np\n",
        "\n",
        "# Create a dummy dictionary\n",
        "dummy_dict = {'col1':[j[0] for j in features_array],'col2':[j[0] for j in features_array],'target':target_array}\n",
        "\n",
        "# Convert the dictionary into DataFrame\n",
        "df = pd.DataFrame.from_dict(dummy_dict)\n",
        "# Print first five rows of the DataFrame\n",
        "df.head()"
      ],
      "execution_count": null,
      "outputs": [
        {
          "output_type": "execute_result",
          "data": {
            "text/plain": [
              "       col1      col2  target\n",
              "0 -2.497617 -2.497617       0\n",
              "1 -6.883676 -6.883676       2\n",
              "2 -6.883578 -6.883578       2\n",
              "3 -6.858116 -6.858116       2\n",
              "4 -6.870351 -6.870351       2"
            ],
            "text/html": [
              "\n",
              "  <div id=\"df-f4d3ee87-f539-4375-9d65-4ac059e7a65b\" class=\"colab-df-container\">\n",
              "    <div>\n",
              "<style scoped>\n",
              "    .dataframe tbody tr th:only-of-type {\n",
              "        vertical-align: middle;\n",
              "    }\n",
              "\n",
              "    .dataframe tbody tr th {\n",
              "        vertical-align: top;\n",
              "    }\n",
              "\n",
              "    .dataframe thead th {\n",
              "        text-align: right;\n",
              "    }\n",
              "</style>\n",
              "<table border=\"1\" class=\"dataframe\">\n",
              "  <thead>\n",
              "    <tr style=\"text-align: right;\">\n",
              "      <th></th>\n",
              "      <th>col1</th>\n",
              "      <th>col2</th>\n",
              "      <th>target</th>\n",
              "    </tr>\n",
              "  </thead>\n",
              "  <tbody>\n",
              "    <tr>\n",
              "      <th>0</th>\n",
              "      <td>-2.497617</td>\n",
              "      <td>-2.497617</td>\n",
              "      <td>0</td>\n",
              "    </tr>\n",
              "    <tr>\n",
              "      <th>1</th>\n",
              "      <td>-6.883676</td>\n",
              "      <td>-6.883676</td>\n",
              "      <td>2</td>\n",
              "    </tr>\n",
              "    <tr>\n",
              "      <th>2</th>\n",
              "      <td>-6.883578</td>\n",
              "      <td>-6.883578</td>\n",
              "      <td>2</td>\n",
              "    </tr>\n",
              "    <tr>\n",
              "      <th>3</th>\n",
              "      <td>-6.858116</td>\n",
              "      <td>-6.858116</td>\n",
              "      <td>2</td>\n",
              "    </tr>\n",
              "    <tr>\n",
              "      <th>4</th>\n",
              "      <td>-6.870351</td>\n",
              "      <td>-6.870351</td>\n",
              "      <td>2</td>\n",
              "    </tr>\n",
              "  </tbody>\n",
              "</table>\n",
              "</div>\n",
              "    <div class=\"colab-df-buttons\">\n",
              "\n",
              "  <div class=\"colab-df-container\">\n",
              "    <button class=\"colab-df-convert\" onclick=\"convertToInteractive('df-f4d3ee87-f539-4375-9d65-4ac059e7a65b')\"\n",
              "            title=\"Convert this dataframe to an interactive table.\"\n",
              "            style=\"display:none;\">\n",
              "\n",
              "  <svg xmlns=\"http://www.w3.org/2000/svg\" height=\"24px\" viewBox=\"0 -960 960 960\">\n",
              "    <path d=\"M120-120v-720h720v720H120Zm60-500h600v-160H180v160Zm220 220h160v-160H400v160Zm0 220h160v-160H400v160ZM180-400h160v-160H180v160Zm440 0h160v-160H620v160ZM180-180h160v-160H180v160Zm440 0h160v-160H620v160Z\"/>\n",
              "  </svg>\n",
              "    </button>\n",
              "\n",
              "  <style>\n",
              "    .colab-df-container {\n",
              "      display:flex;\n",
              "      gap: 12px;\n",
              "    }\n",
              "\n",
              "    .colab-df-convert {\n",
              "      background-color: #E8F0FE;\n",
              "      border: none;\n",
              "      border-radius: 50%;\n",
              "      cursor: pointer;\n",
              "      display: none;\n",
              "      fill: #1967D2;\n",
              "      height: 32px;\n",
              "      padding: 0 0 0 0;\n",
              "      width: 32px;\n",
              "    }\n",
              "\n",
              "    .colab-df-convert:hover {\n",
              "      background-color: #E2EBFA;\n",
              "      box-shadow: 0px 1px 2px rgba(60, 64, 67, 0.3), 0px 1px 3px 1px rgba(60, 64, 67, 0.15);\n",
              "      fill: #174EA6;\n",
              "    }\n",
              "\n",
              "    .colab-df-buttons div {\n",
              "      margin-bottom: 4px;\n",
              "    }\n",
              "\n",
              "    [theme=dark] .colab-df-convert {\n",
              "      background-color: #3B4455;\n",
              "      fill: #D2E3FC;\n",
              "    }\n",
              "\n",
              "    [theme=dark] .colab-df-convert:hover {\n",
              "      background-color: #434B5C;\n",
              "      box-shadow: 0px 1px 3px 1px rgba(0, 0, 0, 0.15);\n",
              "      filter: drop-shadow(0px 1px 2px rgba(0, 0, 0, 0.3));\n",
              "      fill: #FFFFFF;\n",
              "    }\n",
              "  </style>\n",
              "\n",
              "    <script>\n",
              "      const buttonEl =\n",
              "        document.querySelector('#df-f4d3ee87-f539-4375-9d65-4ac059e7a65b button.colab-df-convert');\n",
              "      buttonEl.style.display =\n",
              "        google.colab.kernel.accessAllowed ? 'block' : 'none';\n",
              "\n",
              "      async function convertToInteractive(key) {\n",
              "        const element = document.querySelector('#df-f4d3ee87-f539-4375-9d65-4ac059e7a65b');\n",
              "        const dataTable =\n",
              "          await google.colab.kernel.invokeFunction('convertToInteractive',\n",
              "                                                    [key], {});\n",
              "        if (!dataTable) return;\n",
              "\n",
              "        const docLinkHtml = 'Like what you see? Visit the ' +\n",
              "          '<a target=\"_blank\" href=https://colab.research.google.com/notebooks/data_table.ipynb>data table notebook</a>'\n",
              "          + ' to learn more about interactive tables.';\n",
              "        element.innerHTML = '';\n",
              "        dataTable['output_type'] = 'display_data';\n",
              "        await google.colab.output.renderOutput(dataTable, element);\n",
              "        const docLink = document.createElement('div');\n",
              "        docLink.innerHTML = docLinkHtml;\n",
              "        element.appendChild(docLink);\n",
              "      }\n",
              "    </script>\n",
              "  </div>\n",
              "\n",
              "\n",
              "<div id=\"df-866190ce-1f35-46c5-8a99-648b934afc19\">\n",
              "  <button class=\"colab-df-quickchart\" onclick=\"quickchart('df-866190ce-1f35-46c5-8a99-648b934afc19')\"\n",
              "            title=\"Suggest charts\"\n",
              "            style=\"display:none;\">\n",
              "\n",
              "<svg xmlns=\"http://www.w3.org/2000/svg\" height=\"24px\"viewBox=\"0 0 24 24\"\n",
              "     width=\"24px\">\n",
              "    <g>\n",
              "        <path d=\"M19 3H5c-1.1 0-2 .9-2 2v14c0 1.1.9 2 2 2h14c1.1 0 2-.9 2-2V5c0-1.1-.9-2-2-2zM9 17H7v-7h2v7zm4 0h-2V7h2v10zm4 0h-2v-4h2v4z\"/>\n",
              "    </g>\n",
              "</svg>\n",
              "  </button>\n",
              "\n",
              "<style>\n",
              "  .colab-df-quickchart {\n",
              "      --bg-color: #E8F0FE;\n",
              "      --fill-color: #1967D2;\n",
              "      --hover-bg-color: #E2EBFA;\n",
              "      --hover-fill-color: #174EA6;\n",
              "      --disabled-fill-color: #AAA;\n",
              "      --disabled-bg-color: #DDD;\n",
              "  }\n",
              "\n",
              "  [theme=dark] .colab-df-quickchart {\n",
              "      --bg-color: #3B4455;\n",
              "      --fill-color: #D2E3FC;\n",
              "      --hover-bg-color: #434B5C;\n",
              "      --hover-fill-color: #FFFFFF;\n",
              "      --disabled-bg-color: #3B4455;\n",
              "      --disabled-fill-color: #666;\n",
              "  }\n",
              "\n",
              "  .colab-df-quickchart {\n",
              "    background-color: var(--bg-color);\n",
              "    border: none;\n",
              "    border-radius: 50%;\n",
              "    cursor: pointer;\n",
              "    display: none;\n",
              "    fill: var(--fill-color);\n",
              "    height: 32px;\n",
              "    padding: 0;\n",
              "    width: 32px;\n",
              "  }\n",
              "\n",
              "  .colab-df-quickchart:hover {\n",
              "    background-color: var(--hover-bg-color);\n",
              "    box-shadow: 0 1px 2px rgba(60, 64, 67, 0.3), 0 1px 3px 1px rgba(60, 64, 67, 0.15);\n",
              "    fill: var(--button-hover-fill-color);\n",
              "  }\n",
              "\n",
              "  .colab-df-quickchart-complete:disabled,\n",
              "  .colab-df-quickchart-complete:disabled:hover {\n",
              "    background-color: var(--disabled-bg-color);\n",
              "    fill: var(--disabled-fill-color);\n",
              "    box-shadow: none;\n",
              "  }\n",
              "\n",
              "  .colab-df-spinner {\n",
              "    border: 2px solid var(--fill-color);\n",
              "    border-color: transparent;\n",
              "    border-bottom-color: var(--fill-color);\n",
              "    animation:\n",
              "      spin 1s steps(1) infinite;\n",
              "  }\n",
              "\n",
              "  @keyframes spin {\n",
              "    0% {\n",
              "      border-color: transparent;\n",
              "      border-bottom-color: var(--fill-color);\n",
              "      border-left-color: var(--fill-color);\n",
              "    }\n",
              "    20% {\n",
              "      border-color: transparent;\n",
              "      border-left-color: var(--fill-color);\n",
              "      border-top-color: var(--fill-color);\n",
              "    }\n",
              "    30% {\n",
              "      border-color: transparent;\n",
              "      border-left-color: var(--fill-color);\n",
              "      border-top-color: var(--fill-color);\n",
              "      border-right-color: var(--fill-color);\n",
              "    }\n",
              "    40% {\n",
              "      border-color: transparent;\n",
              "      border-right-color: var(--fill-color);\n",
              "      border-top-color: var(--fill-color);\n",
              "    }\n",
              "    60% {\n",
              "      border-color: transparent;\n",
              "      border-right-color: var(--fill-color);\n",
              "    }\n",
              "    80% {\n",
              "      border-color: transparent;\n",
              "      border-right-color: var(--fill-color);\n",
              "      border-bottom-color: var(--fill-color);\n",
              "    }\n",
              "    90% {\n",
              "      border-color: transparent;\n",
              "      border-bottom-color: var(--fill-color);\n",
              "    }\n",
              "  }\n",
              "</style>\n",
              "\n",
              "  <script>\n",
              "    async function quickchart(key) {\n",
              "      const quickchartButtonEl =\n",
              "        document.querySelector('#' + key + ' button');\n",
              "      quickchartButtonEl.disabled = true;  // To prevent multiple clicks.\n",
              "      quickchartButtonEl.classList.add('colab-df-spinner');\n",
              "      try {\n",
              "        const charts = await google.colab.kernel.invokeFunction(\n",
              "            'suggestCharts', [key], {});\n",
              "      } catch (error) {\n",
              "        console.error('Error during call to suggestCharts:', error);\n",
              "      }\n",
              "      quickchartButtonEl.classList.remove('colab-df-spinner');\n",
              "      quickchartButtonEl.classList.add('colab-df-quickchart-complete');\n",
              "    }\n",
              "    (() => {\n",
              "      let quickchartButtonEl =\n",
              "        document.querySelector('#df-866190ce-1f35-46c5-8a99-648b934afc19 button');\n",
              "      quickchartButtonEl.style.display =\n",
              "        google.colab.kernel.accessAllowed ? 'block' : 'none';\n",
              "    })();\n",
              "  </script>\n",
              "</div>\n",
              "\n",
              "    </div>\n",
              "  </div>\n"
            ]
          },
          "metadata": {},
          "execution_count": 10
        }
      ]
    },
    {
      "cell_type": "markdown",
      "metadata": {
        "id": "nNssXaJIxs1z"
      },
      "source": [
        "**Hint:**\n",
        "\n",
        "Use function `from_dict()` to convert Python Dictionary to DataFrame.\n",
        "\n",
        "**Syntax:** `pd.DataFrame.from_dict(some_dictionary)`"
      ]
    },
    {
      "cell_type": "markdown",
      "metadata": {
        "id": "cFadXT1xZL8N"
      },
      "source": [
        "**After this activity, the DataFrame should be created with two independent features columns and one dependent target column.**"
      ]
    },
    {
      "cell_type": "markdown",
      "metadata": {
        "id": "zw9fzGnn0o8_"
      },
      "source": [
        "----"
      ]
    },
    {
      "cell_type": "markdown",
      "metadata": {
        "id": "sih3CWX-0Afx"
      },
      "source": [
        "#### Activity 2: Dataset Inspection\n",
        "\n",
        "In this activity, you have look into the distribution of the labels in the `target` column of the DataFrame.\n",
        "\n",
        "**1.** Print the number of occurences of each label in `target` column."
      ]
    },
    {
      "cell_type": "code",
      "metadata": {
        "id": "4X2ZC-kvk_as",
        "colab": {
          "base_uri": "https://localhost:8080/"
        },
        "outputId": "b257e729-aa1a-4dae-a919-741608f069a8"
      },
      "source": [
        "# Display the number of occurrences of each label in the 'target' column.\n",
        "df['target'].value_counts()"
      ],
      "execution_count": null,
      "outputs": [
        {
          "output_type": "execute_result",
          "data": {
            "text/plain": [
              "2    7930\n",
              "1    4270\n",
              "4    3331\n",
              "5    2721\n",
              "0     200\n",
              "3      21\n",
              "Name: target, dtype: int64"
            ]
          },
          "metadata": {},
          "execution_count": 11
        }
      ]
    },
    {
      "cell_type": "markdown",
      "metadata": {
        "id": "pdM4v_ai0gcP"
      },
      "source": [
        "**2.** Print the percentage of the samples for each label in `target` column."
      ]
    },
    {
      "cell_type": "code",
      "metadata": {
        "id": "tHqjnoC4ntI1",
        "colab": {
          "base_uri": "https://localhost:8080/"
        },
        "outputId": "809f6355-ba19-46b7-d795-466799b8e09d"
      },
      "source": [
        "# Get the percentage of count of each label samples in the dataset.\n",
        "(df['target'].value_counts()/df.shape[0])*100"
      ],
      "execution_count": null,
      "outputs": [
        {
          "output_type": "execute_result",
          "data": {
            "text/plain": [
              "2    42.927516\n",
              "1    23.114816\n",
              "4    18.031722\n",
              "5    14.729605\n",
              "0     1.082661\n",
              "3     0.113679\n",
              "Name: target, dtype: float64"
            ]
          },
          "metadata": {},
          "execution_count": 12
        }
      ]
    },
    {
      "cell_type": "markdown",
      "metadata": {
        "id": "lkIjwIRt0vU2"
      },
      "source": [
        "**Q:** How many unique labels are present in the DataFrame? What are they?\n",
        "\n",
        "**A:** 6\n",
        "\n",
        "**Q:** Is the DataFrame balanced?\n",
        "\n",
        "**A:**No\n",
        "\n",
        "---\n",
        "\n"
      ]
    },
    {
      "cell_type": "code",
      "source": [
        "df['target'].unique()"
      ],
      "metadata": {
        "colab": {
          "base_uri": "https://localhost:8080/"
        },
        "id": "dYHgxJriqHR5",
        "outputId": "a352f503-e03e-4066-f275-45b5a2bef1ce"
      },
      "execution_count": null,
      "outputs": [
        {
          "output_type": "execute_result",
          "data": {
            "text/plain": [
              "array([0, 2, 1, 4, 5, 3])"
            ]
          },
          "metadata": {},
          "execution_count": 13
        }
      ]
    },
    {
      "cell_type": "markdown",
      "metadata": {
        "id": "efUDmkarmdK1"
      },
      "source": [
        "**3.**  Create a scatter plot between the columns `col 1` and `col 2` for all the labels to visualize the clusters of every class (or points)."
      ]
    },
    {
      "cell_type": "code",
      "metadata": {
        "id": "0oZ9l-qjm-Ci",
        "colab": {
          "base_uri": "https://localhost:8080/",
          "height": 1000
        },
        "outputId": "2d0fa2e0-5192-44ce-a563-fa6a54ec53f6"
      },
      "source": [
        "# Create a scatter plot between 'col 1' and 'col 2' columns separately for all the classes in the same plot.\n",
        "\n",
        "# Import the module\n",
        "\n",
        "\n",
        "# Define the size of the graph\n",
        "plt.figure(figsize = (15,6))\n",
        "# Create a for loop executing for every unique class in `target` column.\n",
        "for i in df['target'].unique():\n",
        "  # Plot the scatter plot for 'col 1' and 'col 2' where 'target ==i\"\n",
        "  plt.scatter(df['col1'].loc[df['target']==i],df['col1'].loc[df['target']==i],label=f\"Unique Target Value = {i}\")\n",
        "  plt.xlabel(\"Col1\")\n",
        "  plt.ylabel(\"Col2\")\n",
        "  plt.legend()\n",
        "  plt.show()\n",
        "# Plot the x and y lables\n",
        "# Display the legends and the graph\n"
      ],
      "execution_count": null,
      "outputs": [
        {
          "output_type": "display_data",
          "data": {
            "text/plain": [
              "<Figure size 1500x600 with 1 Axes>"
            ],
            "image/png": "[encoded data removed]"
          },
          "metadata": {}
        },
        {
          "output_type": "display_data",
          "data": {
            "text/plain": [
              "<Figure size 640x480 with 1 Axes>"
            ],
            "image/png": "[encoded data removed]"
          },
          "metadata": {}
        },
        {
          "output_type": "display_data",
          "data": {
            "text/plain": [
              "<Figure size 640x480 with 1 Axes>"
            ],
            "image/png": "[encoded data removed]"
          },
          "metadata": {}
        },
        {
          "output_type": "display_data",
          "data": {
            "text/plain": [
              "<Figure size 640x480 with 1 Axes>"
            ],
            "image/png": "[encoded data removed]"
          },
          "metadata": {}
        },
        {
          "output_type": "display_data",
          "data": {
            "text/plain": [
              "<Figure size 640x480 with 1 Axes>"
            ],
            "image/png": "[encoded data removed]"
          },
          "metadata": {}
        },
        {
          "output_type": "display_data",
          "data": {
            "text/plain": [
              "<Figure size 640x480 with 1 Axes>"
            ],
            "image/png": "[encoded data removed]"
          },
          "metadata": {}
        }
      ]
    },
    {
      "cell_type": "markdown",
      "metadata": {
        "id": "VFL1eOrt4QGX"
      },
      "source": [
        "**Hint:**\n",
        "Revise the lesson \"Logistic Regression - Decision Boundary\"."
      ]
    },
    {
      "cell_type": "markdown",
      "metadata": {
        "id": "EALXjtgQACls"
      },
      "source": [
        "**After this activity, the labels to be predicted i.e the target variables and their distribution should be known.**"
      ]
    },
    {
      "cell_type": "markdown",
      "metadata": {
        "id": "Cz8UL0R646g7"
      },
      "source": [
        "----"
      ]
    },
    {
      "cell_type": "markdown",
      "metadata": {
        "id": "uDTmlU-Mz0fI"
      },
      "source": [
        "#### Activity 3: Train-Test Split\n",
        "\n",
        "We need to predict the value of the `target` variable, using other variables. Thus, `target` is the dependent variable and other columns are the independent variables.\n",
        "\n",
        "**1.** Split the dataset into the training set and test set such that the training set contains 70% of the instances and the remaining instances will become the test set.\n",
        "\n",
        "**2.** Set `random_state = 42`."
      ]
    },
    {
      "cell_type": "code",
      "metadata": {
        "id": "u0yVYJbqmLAZ",
        "colab": {
          "base_uri": "https://localhost:8080/"
        },
        "outputId": "160c74bf-9309-4424-c3d8-d38b543effc2"
      },
      "source": [
        "# Import 'train_test_split' module\n",
        "from sklearn.model_selection import train_test_split\n",
        "\n",
        "# Create the features data frame holding all the columns except the last column\n",
        "# and print first five rows of this dataframe\n",
        "features = list(df.columns)[:-1]\n",
        "print(features)\n",
        "x = df[features]\n",
        "print(x.head())\n",
        "# Create the target series that holds last column 'target'\n",
        "# and print first five rows of this series\n",
        "y = df['target']\n",
        "print(y.head())\n",
        "# Split the train and test sets using the 'train_test_split()' function.\n",
        "x_train,x_test,y_train,y_test = train_test_split(x,y,test_size=0.30,random_state=42)"
      ],
      "execution_count": null,
      "outputs": [
        {
          "output_type": "stream",
          "name": "stdout",
          "text": [
            "['col1', 'col2']\n",
            "       col1      col2\n",
            "0 -2.497617 -2.497617\n",
            "1 -6.883676 -6.883676\n",
            "2 -6.883578 -6.883578\n",
            "3 -6.858116 -6.858116\n",
            "4 -6.870351 -6.870351\n",
            "0    0\n",
            "1    2\n",
            "2    2\n",
            "3    2\n",
            "4    2\n",
            "Name: target, dtype: int64\n"
          ]
        }
      ]
    },
    {
      "cell_type": "markdown",
      "metadata": {
        "id": "g_QtCtFp5alM"
      },
      "source": [
        "**3.** Print the number of rows and columns in the training and testing set."
      ]
    },
    {
      "cell_type": "code",
      "metadata": {
        "id": "odYfuRCo9tTg",
        "colab": {
          "base_uri": "https://localhost:8080/"
        },
        "outputId": "c9803857-48f6-4b4d-fb9f-9fe6113fabf0"
      },
      "source": [
        "# Print the shape of all the four variables i.e. 'x_train', 'x_test', 'y_train' and 'y_test'\n",
        "print(x_train.shape)\n",
        "print(y_train.shape)\n",
        "print(x_test.shape)\n",
        "print(y_test.shape)"
      ],
      "execution_count": null,
      "outputs": [
        {
          "output_type": "stream",
          "name": "stdout",
          "text": [
            "(12931, 2)\n",
            "(12931,)\n",
            "(5542, 2)\n",
            "(5542,)\n"
          ]
        }
      ]
    },
    {
      "cell_type": "markdown",
      "metadata": {
        "id": "Rpgp9jyYld-C"
      },
      "source": [
        "**After this activity, the features and target data should be splitted into training and testing data.**"
      ]
    },
    {
      "cell_type": "markdown",
      "metadata": {
        "id": "cHZ60-Bx5ipL"
      },
      "source": [
        "----"
      ]
    },
    {
      "cell_type": "markdown",
      "metadata": {
        "id": "9hn9AfqoY7DE"
      },
      "source": [
        "#### Activity 4: Logistic Regression - Model Training\n",
        "\n",
        "Implement Logistic Regression Classification using `sklearn` module in the following way:\n",
        "\n",
        "1. Deploy the model by importing the `LogisticRegression` class and create an object of this class.\n",
        "2. Call the `fit()` function on the Logistic Regression object and print the score using the `score()` function.\n"
      ]
    },
    {
      "cell_type": "code",
      "metadata": {
        "id": "IskflWOh_RHE",
        "colab": {
          "base_uri": "https://localhost:8080/"
        },
        "outputId": "297c461e-d69d-495a-c4ee-831270747fc4"
      },
      "source": [
        "# Build a logistic regression model using the 'sklearn' module.\n",
        "from sklearn.linear_model import LogisticRegression\n",
        "\n",
        "# 1. Create the Logistic Regression object\n",
        "log_reg = LogisticRegression()\n",
        "# 2. Call the 'fit()' function with training set as inputs.\n",
        "log_reg.fit(x_train, y_train)\n",
        "# 3. Call the 'score()' function with training set as inputs to check the accuracy score of the model.\n",
        "log_reg.score(x_train, y_train)"
      ],
      "execution_count": null,
      "outputs": [
        {
          "output_type": "stream",
          "name": "stderr",
          "text": [
            "/usr/local/lib/python3.10/dist-packages/sklearn/linear_model/_logistic.py:458: ConvergenceWarning: lbfgs failed to converge (status=1):\n",
            "STOP: TOTAL NO. of ITERATIONS REACHED LIMIT.\n",
            "\n",
            "Increase the number of iterations (max_iter) or scale the data as shown in:\n",
            "    https://scikit-learn.org/stable/modules/preprocessing.html\n",
            "Please also refer to the documentation for alternative solver options:\n",
            "    https://scikit-learn.org/stable/modules/linear_model.html#logistic-regression\n",
            "  n_iter_i = _check_optimize_result(\n"
          ]
        },
        {
          "output_type": "execute_result",
          "data": {
            "text/plain": [
              "0.998530662748434"
            ]
          },
          "metadata": {},
          "execution_count": 32
        }
      ]
    },
    {
      "cell_type": "markdown",
      "metadata": {
        "id": "CCkIHk8t6NDY"
      },
      "source": [
        "**Note:** Ignore the warnings if any for now."
      ]
    },
    {
      "cell_type": "markdown",
      "metadata": {
        "id": "JlrL_FLjAUzx"
      },
      "source": [
        "**After this activity, a Logistic Regression model object should be trained for multiclass classification.**"
      ]
    },
    {
      "cell_type": "markdown",
      "metadata": {
        "id": "j5T8FUux6dgo"
      },
      "source": [
        "----"
      ]
    },
    {
      "cell_type": "markdown",
      "metadata": {
        "id": "4J0gTaZrZoeK"
      },
      "source": [
        "#### Activity 5: Model Prediction and Evaluation - Training Set\n",
        "\n",
        "**1.** Predict the values for training set by calling the `predict()` function on the Logistic Regression object.\n",
        "\n",
        "**2.** Print the unique labels predicted using Logistic Regression on training features.\n",
        "\n",
        "**3.** Print the distribution of the labels predicted in the predicted target series for the training features.\n"
      ]
    },
    {
      "cell_type": "code",
      "source": [
        "y_train"
      ],
      "metadata": {
        "colab": {
          "base_uri": "https://localhost:8080/"
        },
        "id": "V4vPCDfRvGIZ",
        "outputId": "cec41324-862a-4009-bfa1-64af714c421a"
      },
      "execution_count": null,
      "outputs": [
        {
          "output_type": "execute_result",
          "data": {
            "text/plain": [
              "17778    4\n",
              "11823    2\n",
              "18007    2\n",
              "17035    1\n",
              "10722    2\n",
              "        ..\n",
              "11284    4\n",
              "11964    4\n",
              "5390     2\n",
              "860      0\n",
              "15795    4\n",
              "Name: target, Length: 12931, dtype: int64"
            ]
          },
          "metadata": {},
          "execution_count": 37
        }
      ]
    },
    {
      "cell_type": "code",
      "source": [
        "x_train"
      ],
      "metadata": {
        "colab": {
          "base_uri": "https://localhost:8080/",
          "height": 423
        },
        "id": "jd9hf_L-vIhs",
        "outputId": "b248f3da-b77e-4f4f-ac66-884c89f159fc"
      },
      "execution_count": null,
      "outputs": [
        {
          "output_type": "execute_result",
          "data": {
            "text/plain": [
              "           col1      col2\n",
              "17778  2.024134  2.024134\n",
              "11823 -6.879907 -6.879907\n",
              "18007 -6.875955 -6.875955\n",
              "17035  4.647435  4.647435\n",
              "10722 -6.886257 -6.886257\n",
              "...         ...       ...\n",
              "11284  2.022914  2.022914\n",
              "11964  2.011171  2.011171\n",
              "5390  -6.868207 -6.868207\n",
              "860   -2.541610 -2.541610\n",
              "15795  2.021864  2.021864\n",
              "\n",
              "[12931 rows x 2 columns]"
            ],
            "text/html": [
              "\n",
              "  <div id=\"df-22610c9a-5806-48a3-8334-0f5149ca7829\" class=\"colab-df-container\">\n",
              "    <div>\n",
              "<style scoped>\n",
              "    .dataframe tbody tr th:only-of-type {\n",
              "        vertical-align: middle;\n",
              "    }\n",
              "\n",
              "    .dataframe tbody tr th {\n",
              "        vertical-align: top;\n",
              "    }\n",
              "\n",
              "    .dataframe thead th {\n",
              "        text-align: right;\n",
              "    }\n",
              "</style>\n",
              "<table border=\"1\" class=\"dataframe\">\n",
              "  <thead>\n",
              "    <tr style=\"text-align: right;\">\n",
              "      <th></th>\n",
              "      <th>col1</th>\n",
              "      <th>col2</th>\n",
              "    </tr>\n",
              "  </thead>\n",
              "  <tbody>\n",
              "    <tr>\n",
              "      <th>17778</th>\n",
              "      <td>2.024134</td>\n",
              "      <td>2.024134</td>\n",
              "    </tr>\n",
              "    <tr>\n",
              "      <th>11823</th>\n",
              "      <td>-6.879907</td>\n",
              "      <td>-6.879907</td>\n",
              "    </tr>\n",
              "    <tr>\n",
              "      <th>18007</th>\n",
              "      <td>-6.875955</td>\n",
              "      <td>-6.875955</td>\n",
              "    </tr>\n",
              "    <tr>\n",
              "      <th>17035</th>\n",
              "      <td>4.647435</td>\n",
              "      <td>4.647435</td>\n",
              "    </tr>\n",
              "    <tr>\n",
              "      <th>10722</th>\n",
              "      <td>-6.886257</td>\n",
              "      <td>-6.886257</td>\n",
              "    </tr>\n",
              "    <tr>\n",
              "      <th>...</th>\n",
              "      <td>...</td>\n",
              "      <td>...</td>\n",
              "    </tr>\n",
              "    <tr>\n",
              "      <th>11284</th>\n",
              "      <td>2.022914</td>\n",
              "      <td>2.022914</td>\n",
              "    </tr>\n",
              "    <tr>\n",
              "      <th>11964</th>\n",
              "      <td>2.011171</td>\n",
              "      <td>2.011171</td>\n",
              "    </tr>\n",
              "    <tr>\n",
              "      <th>5390</th>\n",
              "      <td>-6.868207</td>\n",
              "      <td>-6.868207</td>\n",
              "    </tr>\n",
              "    <tr>\n",
              "      <th>860</th>\n",
              "      <td>-2.541610</td>\n",
              "      <td>-2.541610</td>\n",
              "    </tr>\n",
              "    <tr>\n",
              "      <th>15795</th>\n",
              "      <td>2.021864</td>\n",
              "      <td>2.021864</td>\n",
              "    </tr>\n",
              "  </tbody>\n",
              "</table>\n",
              "<p>12931 rows × 2 columns</p>\n",
              "</div>\n",
              "    <div class=\"colab-df-buttons\">\n",
              "\n",
              "  <div class=\"colab-df-container\">\n",
              "    <button class=\"colab-df-convert\" onclick=\"convertToInteractive('df-22610c9a-5806-48a3-8334-0f5149ca7829')\"\n",
              "            title=\"Convert this dataframe to an interactive table.\"\n",
              "            style=\"display:none;\">\n",
              "\n",
              "  <svg xmlns=\"http://www.w3.org/2000/svg\" height=\"24px\" viewBox=\"0 -960 960 960\">\n",
              "    <path d=\"M120-120v-720h720v720H120Zm60-500h600v-160H180v160Zm220 220h160v-160H400v160Zm0 220h160v-160H400v160ZM180-400h160v-160H180v160Zm440 0h160v-160H620v160ZM180-180h160v-160H180v160Zm440 0h160v-160H620v160Z\"/>\n",
              "  </svg>\n",
              "    </button>\n",
              "\n",
              "  <style>\n",
              "    .colab-df-container {\n",
              "      display:flex;\n",
              "      gap: 12px;\n",
              "    }\n",
              "\n",
              "    .colab-df-convert {\n",
              "      background-color: #E8F0FE;\n",
              "      border: none;\n",
              "      border-radius: 50%;\n",
              "      cursor: pointer;\n",
              "      display: none;\n",
              "      fill: #1967D2;\n",
              "      height: 32px;\n",
              "      padding: 0 0 0 0;\n",
              "      width: 32px;\n",
              "    }\n",
              "\n",
              "    .colab-df-convert:hover {\n",
              "      background-color: #E2EBFA;\n",
              "      box-shadow: 0px 1px 2px rgba(60, 64, 67, 0.3), 0px 1px 3px 1px rgba(60, 64, 67, 0.15);\n",
              "      fill: #174EA6;\n",
              "    }\n",
              "\n",
              "    .colab-df-buttons div {\n",
              "      margin-bottom: 4px;\n",
              "    }\n",
              "\n",
              "    [theme=dark] .colab-df-convert {\n",
              "      background-color: #3B4455;\n",
              "      fill: #D2E3FC;\n",
              "    }\n",
              "\n",
              "    [theme=dark] .colab-df-convert:hover {\n",
              "      background-color: #434B5C;\n",
              "      box-shadow: 0px 1px 3px 1px rgba(0, 0, 0, 0.15);\n",
              "      filter: drop-shadow(0px 1px 2px rgba(0, 0, 0, 0.3));\n",
              "      fill: #FFFFFF;\n",
              "    }\n",
              "  </style>\n",
              "\n",
              "    <script>\n",
              "      const buttonEl =\n",
              "        document.querySelector('#df-22610c9a-5806-48a3-8334-0f5149ca7829 button.colab-df-convert');\n",
              "      buttonEl.style.display =\n",
              "        google.colab.kernel.accessAllowed ? 'block' : 'none';\n",
              "\n",
              "      async function convertToInteractive(key) {\n",
              "        const element = document.querySelector('#df-22610c9a-5806-48a3-8334-0f5149ca7829');\n",
              "        const dataTable =\n",
              "          await google.colab.kernel.invokeFunction('convertToInteractive',\n",
              "                                                    [key], {});\n",
              "        if (!dataTable) return;\n",
              "\n",
              "        const docLinkHtml = 'Like what you see? Visit the ' +\n",
              "          '<a target=\"_blank\" href=https://colab.research.google.com/notebooks/data_table.ipynb>data table notebook</a>'\n",
              "          + ' to learn more about interactive tables.';\n",
              "        element.innerHTML = '';\n",
              "        dataTable['output_type'] = 'display_data';\n",
              "        await google.colab.output.renderOutput(dataTable, element);\n",
              "        const docLink = document.createElement('div');\n",
              "        docLink.innerHTML = docLinkHtml;\n",
              "        element.appendChild(docLink);\n",
              "      }\n",
              "    </script>\n",
              "  </div>\n",
              "\n",
              "\n",
              "<div id=\"df-d6763ba4-f9ce-4f04-812d-79dc4b6e3e55\">\n",
              "  <button class=\"colab-df-quickchart\" onclick=\"quickchart('df-d6763ba4-f9ce-4f04-812d-79dc4b6e3e55')\"\n",
              "            title=\"Suggest charts\"\n",
              "            style=\"display:none;\">\n",
              "\n",
              "<svg xmlns=\"http://www.w3.org/2000/svg\" height=\"24px\"viewBox=\"0 0 24 24\"\n",
              "     width=\"24px\">\n",
              "    <g>\n",
              "        <path d=\"M19 3H5c-1.1 0-2 .9-2 2v14c0 1.1.9 2 2 2h14c1.1 0 2-.9 2-2V5c0-1.1-.9-2-2-2zM9 17H7v-7h2v7zm4 0h-2V7h2v10zm4 0h-2v-4h2v4z\"/>\n",
              "    </g>\n",
              "</svg>\n",
              "  </button>\n",
              "\n",
              "<style>\n",
              "  .colab-df-quickchart {\n",
              "      --bg-color: #E8F0FE;\n",
              "      --fill-color: #1967D2;\n",
              "      --hover-bg-color: #E2EBFA;\n",
              "      --hover-fill-color: #174EA6;\n",
              "      --disabled-fill-color: #AAA;\n",
              "      --disabled-bg-color: #DDD;\n",
              "  }\n",
              "\n",
              "  [theme=dark] .colab-df-quickchart {\n",
              "      --bg-color: #3B4455;\n",
              "      --fill-color: #D2E3FC;\n",
              "      --hover-bg-color: #434B5C;\n",
              "      --hover-fill-color: #FFFFFF;\n",
              "      --disabled-bg-color: #3B4455;\n",
              "      --disabled-fill-color: #666;\n",
              "  }\n",
              "\n",
              "  .colab-df-quickchart {\n",
              "    background-color: var(--bg-color);\n",
              "    border: none;\n",
              "    border-radius: 50%;\n",
              "    cursor: pointer;\n",
              "    display: none;\n",
              "    fill: var(--fill-color);\n",
              "    height: 32px;\n",
              "    padding: 0;\n",
              "    width: 32px;\n",
              "  }\n",
              "\n",
              "  .colab-df-quickchart:hover {\n",
              "    background-color: var(--hover-bg-color);\n",
              "    box-shadow: 0 1px 2px rgba(60, 64, 67, 0.3), 0 1px 3px 1px rgba(60, 64, 67, 0.15);\n",
              "    fill: var(--button-hover-fill-color);\n",
              "  }\n",
              "\n",
              "  .colab-df-quickchart-complete:disabled,\n",
              "  .colab-df-quickchart-complete:disabled:hover {\n",
              "    background-color: var(--disabled-bg-color);\n",
              "    fill: var(--disabled-fill-color);\n",
              "    box-shadow: none;\n",
              "  }\n",
              "\n",
              "  .colab-df-spinner {\n",
              "    border: 2px solid var(--fill-color);\n",
              "    border-color: transparent;\n",
              "    border-bottom-color: var(--fill-color);\n",
              "    animation:\n",
              "      spin 1s steps(1) infinite;\n",
              "  }\n",
              "\n",
              "  @keyframes spin {\n",
              "    0% {\n",
              "      border-color: transparent;\n",
              "      border-bottom-color: var(--fill-color);\n",
              "      border-left-color: var(--fill-color);\n",
              "    }\n",
              "    20% {\n",
              "      border-color: transparent;\n",
              "      border-left-color: var(--fill-color);\n",
              "      border-top-color: var(--fill-color);\n",
              "    }\n",
              "    30% {\n",
              "      border-color: transparent;\n",
              "      border-left-color: var(--fill-color);\n",
              "      border-top-color: var(--fill-color);\n",
              "      border-right-color: var(--fill-color);\n",
              "    }\n",
              "    40% {\n",
              "      border-color: transparent;\n",
              "      border-right-color: var(--fill-color);\n",
              "      border-top-color: var(--fill-color);\n",
              "    }\n",
              "    60% {\n",
              "      border-color: transparent;\n",
              "      border-right-color: var(--fill-color);\n",
              "    }\n",
              "    80% {\n",
              "      border-color: transparent;\n",
              "      border-right-color: var(--fill-color);\n",
              "      border-bottom-color: var(--fill-color);\n",
              "    }\n",
              "    90% {\n",
              "      border-color: transparent;\n",
              "      border-bottom-color: var(--fill-color);\n",
              "    }\n",
              "  }\n",
              "</style>\n",
              "\n",
              "  <script>\n",
              "    async function quickchart(key) {\n",
              "      const quickchartButtonEl =\n",
              "        document.querySelector('#' + key + ' button');\n",
              "      quickchartButtonEl.disabled = true;  // To prevent multiple clicks.\n",
              "      quickchartButtonEl.classList.add('colab-df-spinner');\n",
              "      try {\n",
              "        const charts = await google.colab.kernel.invokeFunction(\n",
              "            'suggestCharts', [key], {});\n",
              "      } catch (error) {\n",
              "        console.error('Error during call to suggestCharts:', error);\n",
              "      }\n",
              "      quickchartButtonEl.classList.remove('colab-df-spinner');\n",
              "      quickchartButtonEl.classList.add('colab-df-quickchart-complete');\n",
              "    }\n",
              "    (() => {\n",
              "      let quickchartButtonEl =\n",
              "        document.querySelector('#df-d6763ba4-f9ce-4f04-812d-79dc4b6e3e55 button');\n",
              "      quickchartButtonEl.style.display =\n",
              "        google.colab.kernel.accessAllowed ? 'block' : 'none';\n",
              "    })();\n",
              "  </script>\n",
              "</div>\n",
              "\n",
              "  <div id=\"id_43a2513b-610b-402a-91ca-83d5e18556be\">\n",
              "    <style>\n",
              "      .colab-df-generate {\n",
              "        background-color: #E8F0FE;\n",
              "        border: none;\n",
              "        border-radius: 50%;\n",
              "        cursor: pointer;\n",
              "        display: none;\n",
              "        fill: #1967D2;\n",
              "        height: 32px;\n",
              "        padding: 0 0 0 0;\n",
              "        width: 32px;\n",
              "      }\n",
              "\n",
              "      .colab-df-generate:hover {\n",
              "        background-color: #E2EBFA;\n",
              "        box-shadow: 0px 1px 2px rgba(60, 64, 67, 0.3), 0px 1px 3px 1px rgba(60, 64, 67, 0.15);\n",
              "        fill: #174EA6;\n",
              "      }\n",
              "\n",
              "      [theme=dark] .colab-df-generate {\n",
              "        background-color: #3B4455;\n",
              "        fill: #D2E3FC;\n",
              "      }\n",
              "\n",
              "      [theme=dark] .colab-df-generate:hover {\n",
              "        background-color: #434B5C;\n",
              "        box-shadow: 0px 1px 3px 1px rgba(0, 0, 0, 0.15);\n",
              "        filter: drop-shadow(0px 1px 2px rgba(0, 0, 0, 0.3));\n",
              "        fill: #FFFFFF;\n",
              "      }\n",
              "    </style>\n",
              "    <button class=\"colab-df-generate\" onclick=\"generateWithVariable('x_train')\"\n",
              "            title=\"Generate code using this dataframe.\"\n",
              "            style=\"display:none;\">\n",
              "\n",
              "  <svg xmlns=\"http://www.w3.org/2000/svg\" height=\"24px\"viewBox=\"0 0 24 24\"\n",
              "       width=\"24px\">\n",
              "    <path d=\"M7,19H8.4L18.45,9,17,7.55,7,17.6ZM5,21V16.75L18.45,3.32a2,2,0,0,1,2.83,0l1.4,1.43a1.91,1.91,0,0,1,.58,1.4,1.91,1.91,0,0,1-.58,1.4L9.25,21ZM18.45,9,17,7.55Zm-12,3A5.31,5.31,0,0,0,4.9,8.1,5.31,5.31,0,0,0,1,6.5,5.31,5.31,0,0,0,4.9,4.9,5.31,5.31,0,0,0,6.5,1,5.31,5.31,0,0,0,8.1,4.9,5.31,5.31,0,0,0,12,6.5,5.46,5.46,0,0,0,6.5,12Z\"/>\n",
              "  </svg>\n",
              "    </button>\n",
              "    <script>\n",
              "      (() => {\n",
              "      const buttonEl =\n",
              "        document.querySelector('#id_43a2513b-610b-402a-91ca-83d5e18556be button.colab-df-generate');\n",
              "      buttonEl.style.display =\n",
              "        google.colab.kernel.accessAllowed ? 'block' : 'none';\n",
              "\n",
              "      buttonEl.onclick = () => {\n",
              "        google.colab.notebook.generateWithVariable('x_train');\n",
              "      }\n",
              "      })();\n",
              "    </script>\n",
              "  </div>\n",
              "\n",
              "    </div>\n",
              "  </div>\n"
            ]
          },
          "metadata": {},
          "execution_count": 38
        }
      ]
    },
    {
      "cell_type": "code",
      "metadata": {
        "id": "LY4yodj0jugK",
        "colab": {
          "base_uri": "https://localhost:8080/"
        },
        "outputId": "bf404194-83d4-4230-fd83-6b444005a9e7"
      },
      "source": [
        "# Predict the values of 'target' by the logistic regression model on the train set.\n",
        "\n",
        "# Predict the target for the training features data\n",
        "y_train_pred = pd.Series(log_reg.predict(x_train))\n",
        "\n",
        "# Convert the predicted array into series\n",
        "\n",
        "# Print the unique labels in the predicted series for training features\n",
        "print(y_train.unique())\n",
        "# Print the distribution labels in the predicted series for training features\n",
        "print(y_train_pred.value_counts())"
      ],
      "execution_count": null,
      "outputs": [
        {
          "output_type": "stream",
          "name": "stdout",
          "text": [
            "[4 2 1 5 0 3]\n",
            "2    5514\n",
            "1    2986\n",
            "4    2354\n",
            "5    1939\n",
            "0     138\n",
            "dtype: int64\n"
          ]
        }
      ]
    },
    {
      "cell_type": "markdown",
      "metadata": {
        "id": "v6hxEpbd7cKc"
      },
      "source": [
        "**Q:** Are all the label values predicted for the training features data?\n",
        "\n",
        "**A:** No\n",
        "\n",
        "$$ $$\n",
        "**Q:** Which labels are predicted and not predicted by the Logistic Regression model?\n",
        "\n",
        "**A:** 4,2,1,5,0 are predicted and 3 is not predicted"
      ]
    },
    {
      "cell_type": "markdown",
      "metadata": {
        "id": "BZPeTWgyAiNZ"
      },
      "source": [
        "**After this activity, values of the labels should be predicted for the target columns using training features set and the model should be evaluated for the same.**"
      ]
    },
    {
      "cell_type": "markdown",
      "metadata": {
        "id": "2-WVVtfk9w2O"
      },
      "source": [
        "----"
      ]
    },
    {
      "cell_type": "markdown",
      "metadata": {
        "id": "JEd74tnB98wU"
      },
      "source": [
        "#### Activity 6: Model Prediction and Evaluation - Test Set\n",
        "\n",
        "**1.** Predict the values for the test set by calling the `predict()` function on the Logistic Regression object.\n",
        "\n",
        "**2.** Print the unique labels predicted using Logistic Regression on test features.\n",
        "\n",
        "**3.** Print the distribution of the labels predicted in the predicted target series for the test features.\n"
      ]
    },
    {
      "cell_type": "code",
      "metadata": {
        "id": "FlSKmfaDvDUU",
        "colab": {
          "base_uri": "https://localhost:8080/"
        },
        "outputId": "7b7f6011-9d66-457b-e6ec-6759e02119c5"
      },
      "source": [
        "# Predict the values of 'target' by the logistic regression model on the test set.\n",
        "\n",
        "# Predict the target for the test features data\n",
        "y_test_pred = pd.Series(log_reg.predict(x_test))\n",
        "\n",
        "# Convert the predicted array into series\n",
        "\n",
        "# Print the unique labels in the predicted series for test features\n",
        "print(y_train.unique())\n",
        "# Print the distribution labels in the predicted series for test features\n",
        "print(y_train_pred.value_counts())"
      ],
      "execution_count": null,
      "outputs": [
        {
          "output_type": "stream",
          "name": "stdout",
          "text": [
            "[4 2 1 5 0 3]\n",
            "2    5514\n",
            "1    2986\n",
            "4    2354\n",
            "5    1939\n",
            "0     138\n",
            "dtype: int64\n"
          ]
        }
      ]
    },
    {
      "cell_type": "markdown",
      "metadata": {
        "id": "xQE5DvUU-gvM"
      },
      "source": [
        "**Q:** Are all the labels predicted for the test features data?\n",
        "\n",
        "**A:**No\n",
        "\n",
        "$$ $$\n",
        "**Q:** What are labels predicted and not predicted using Logistic Regression model object?\n",
        "\n",
        "**A:**4,2,1,5,0 are predicted and 3 is not predicted\n",
        "\n",
        "---\n",
        "**4.** Display the confusion matrix for the test set:\n"
      ]
    },
    {
      "cell_type": "code",
      "metadata": {
        "id": "eV0xbGtNoY80"
      },
      "source": [
        "# Print the confusion matrix for the actual and predicted data of the test set (if required)\n",
        "# NOT REQUIRED"
      ],
      "execution_count": null,
      "outputs": []
    },
    {
      "cell_type": "markdown",
      "metadata": {
        "id": "nzeGPULe-3Tn"
      },
      "source": [
        "**5.** Display the classification report for the test set:"
      ]
    },
    {
      "cell_type": "code",
      "metadata": {
        "id": "6d1cVFQ0osXX"
      },
      "source": [
        "# Print the classification report for the actual and predicted data of the testing set (if required)\n",
        "# NOT REQUIRED"
      ],
      "execution_count": null,
      "outputs": []
    },
    {
      "cell_type": "markdown",
      "metadata": {
        "id": "E7TzNuyCA1Dp"
      },
      "source": [
        "**After this activity, labels should be predicted for the target columns using test features set and the model should be evaluated for the same.**"
      ]
    },
    {
      "cell_type": "markdown",
      "metadata": {
        "id": "_MjqVw93--Ir"
      },
      "source": [
        "---"
      ]
    },
    {
      "cell_type": "markdown",
      "metadata": {
        "id": "_Tw7uK1ndut5"
      },
      "source": [
        "**Write your interpretation of the results here.**\n",
        "\n",
        "- Interpretation 1:\n",
        "- Interpretation 2:\n",
        "- Interpretation 3:"
      ]
    },
    {
      "cell_type": "markdown",
      "metadata": {
        "id": "iZ5Jtorc-j9O"
      },
      "source": [
        "---"
      ]
    },
    {
      "cell_type": "markdown",
      "metadata": {
        "id": "SZzMOWVA-kwL"
      },
      "source": [
        "### Submitting the Project:\n",
        "\n",
        "1. After finishing the project, click on the **Share** button on the top right corner of the notebook. A new dialog box will appear.\n",
        "\n",
        "  <img src='https://student-datasets-bucket.s3.ap-south-1.amazonaws.com/images/project-share-images/2_share_button.png' width=500>\n",
        "\n",
        "2. In the dialog box, make sure that '**Anyone on the Internet with this link can view**' option is selected and then click on the **Copy link** button.\n",
        "\n",
        "   <img src='https://student-datasets-bucket.s3.ap-south-1.amazonaws.com/images/project-share-images/3_copy_link.png' width=500>\n",
        "\n",
        "3. The link of the duplicate copy (named as **YYYY-MM-DD_StudentName_Project80**) of the notebook will get copied\n",
        "\n",
        "   <img src='https://student-datasets-bucket.s3.ap-south-1.amazonaws.com/images/project-share-images/4_copy_link_confirmation.png' width=500>\n",
        "\n",
        "4. Go to your dashboard and click on the **My Projects** option.\n",
        "   \n",
        "   <img src='https://student-datasets-bucket.s3.ap-south-1.amazonaws.com/images/project-share-images/5_student_dashboard.png' width=800>\n",
        "\n",
        "  <img src='https://student-datasets-bucket.s3.ap-south-1.amazonaws.com/images/project-share-images/6_my_projects.png' width=800>\n",
        "\n",
        "5. Click on the **View Project** button for the project you want to submit.\n",
        "\n",
        "   <img src='https://student-datasets-bucket.s3.ap-south-1.amazonaws.com/images/project-share-images/7_view_project.png' width=800>\n",
        "\n",
        "6. Click on the **Submit Project Here** button.\n",
        "\n",
        "   <img src='https://student-datasets-bucket.s3.ap-south-1.amazonaws.com/images/project-share-images/8_submit_project.png' width=800>\n",
        "\n",
        "7. Paste the link to the project file named as **YYYY-MM-DD_StudentName_Project80** in the URL box and then click on the **Submit** button.\n",
        "\n",
        "   <img src='https://student-datasets-bucket.s3.ap-south-1.amazonaws.com/images/project-share-images/9_enter_project_url.png' width=800>"
      ]
    }
  ]
}